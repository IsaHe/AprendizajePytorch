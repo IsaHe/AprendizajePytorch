{
 "nbformat": 4,
 "nbformat_minor": 0,
 "metadata": {
  "colab": {
   "provenance": [],
   "authorship_tag": "ABX9TyNDDtrTCVzr6LW8illiy3OH"
  },
  "kernelspec": {
   "name": "python3",
   "language": "python",
   "display_name": "Python 3 (ipykernel)"
  },
  "language_info": {
   "name": "python"
  }
 },
 "cells": [
  {
   "cell_type": "markdown",
   "source": [
    "# Pytorch Work Flow\n",
    "Fuentes:https://www.learnpytorch.io/, https://pytorch.org/tutorials/\n",
    "https://pytorch.org/docs/stable/nn.html"
   ],
   "metadata": {
    "id": "-zL-yP6uYqrR"
   }
  },
  {
   "cell_type": "code",
   "source": [
    "import torch\n",
    "from torch import nn  # Contiene todo lo necesario para crear redes neuronales\n",
    "import matplotlib.pyplot as plt\n",
    "import numpy as np"
   ],
   "metadata": {
    "id": "51g8q6NyZHRd",
    "executionInfo": {
     "status": "ok",
     "timestamp": 1677008902971,
     "user_tz": -60,
     "elapsed": 3124,
     "user": {
      "displayName": "Isaac Esteban Herbozo Valladares",
      "userId": "13065562431296458180"
     }
    },
    "ExecuteTime": {
     "end_time": "2023-07-22T20:32:23.973735300Z",
     "start_time": "2023-07-22T20:32:23.851881300Z"
    }
   },
   "execution_count": 70,
   "outputs": []
  },
  {
   "cell_type": "markdown",
   "source": [
    "## 1. Datos (preparacion y carga)\n",
    "\n",
    "Los datos pueden ser casi cualquier cosa.\n",
    "\n",
    "En Machine Learning  hay dos partes principales:\n",
    "1. Poner los datos como una representacion numerica\n",
    "2. Construir un modelo para aprender los modelos en la representacion numerica\n",
    "\n",
    "Para ejemplificar esto, podemos crear algunos datos *conocidos* usando la formula de la regresion linear.\n",
    "\n",
    "Se usara la regresion lineal para crear una linea recta con **parametros** *conocidos* "
   ],
   "metadata": {
    "id": "zrml-GqwZGz0"
   }
  },
  {
   "cell_type": "code",
   "source": [
    "# Crear parametros conocidos\n",
    "weight = 0.7  # Estos dos numeros pueden ser lo que queramos entre 1 y 0\n",
    "bias = 0.3\n",
    "\n",
    "# Creacion\n",
    "inicio = 0\n",
    "fin = 1\n",
    "step = 0.02\n",
    "x = torch.arange (inicio, fin, step).unsqueeze(dim = 1)\n",
    "y = weight * x + bias #Esta seria la formula de la regresion lineal\n",
    "x[:10], y[:10]"
   ],
   "metadata": {
    "colab": {
     "base_uri": "https://localhost:8080/"
    },
    "id": "Gp5wSi5HZGwS",
    "executionInfo": {
     "status": "ok",
     "timestamp": 1677008902972,
     "user_tz": -60,
     "elapsed": 20,
     "user": {
      "displayName": "Isaac Esteban Herbozo Valladares",
      "userId": "13065562431296458180"
     }
    },
    "outputId": "c1c5c8fb-b16e-4692-bdea-dc3c0298be5d",
    "ExecuteTime": {
     "end_time": "2023-07-22T20:32:23.976235700Z",
     "start_time": "2023-07-22T20:32:23.858615Z"
    }
   },
   "execution_count": 71,
   "outputs": [
    {
     "data": {
      "text/plain": "(tensor([[0.0000],\n         [0.0200],\n         [0.0400],\n         [0.0600],\n         [0.0800],\n         [0.1000],\n         [0.1200],\n         [0.1400],\n         [0.1600],\n         [0.1800]]),\n tensor([[0.3000],\n         [0.3140],\n         [0.3280],\n         [0.3420],\n         [0.3560],\n         [0.3700],\n         [0.3840],\n         [0.3980],\n         [0.4120],\n         [0.4260]]))"
     },
     "execution_count": 71,
     "metadata": {},
     "output_type": "execute_result"
    }
   ]
  },
  {
   "cell_type": "code",
   "source": [
    "len(x), len(y)"
   ],
   "metadata": {
    "colab": {
     "base_uri": "https://localhost:8080/"
    },
    "id": "YJAto9RkZGtZ",
    "executionInfo": {
     "status": "ok",
     "timestamp": 1677008902973,
     "user_tz": -60,
     "elapsed": 16,
     "user": {
      "displayName": "Isaac Esteban Herbozo Valladares",
      "userId": "13065562431296458180"
     }
    },
    "outputId": "84f309ff-70cb-413e-c47e-5d8c7bb1df99",
    "ExecuteTime": {
     "end_time": "2023-07-22T20:32:23.977235800Z",
     "start_time": "2023-07-22T20:32:23.864566100Z"
    }
   },
   "execution_count": 72,
   "outputs": [
    {
     "data": {
      "text/plain": "(50, 50)"
     },
     "execution_count": 72,
     "metadata": {},
     "output_type": "execute_result"
    }
   ]
  },
  {
   "cell_type": "markdown",
   "source": [
    "### Dividir los datos en sets de  entrenamiento y sets de pruebas"
   ],
   "metadata": {
    "id": "k1qkNV-oZGqp"
   }
  },
  {
   "cell_type": "code",
   "source": [
    "# Crear una separacion entrenamiento/pruebas\n",
    "train_split = int(0.8 * len(x))\n",
    "# Hay mejores maneras de realizar la division pero con un set de datos tan sencillo esto nos vale\n",
    "x_train, y_train = x[:train_split], y[:train_split]\n",
    "x_test, y_test = x[train_split:], y[train_split:]\n",
    "\n",
    "len(x_train), len(y_train), len(x_test), len(y_test)"
   ],
   "metadata": {
    "id": "-H6xC7HhZGn3",
    "colab": {
     "base_uri": "https://localhost:8080/"
    },
    "executionInfo": {
     "status": "ok",
     "timestamp": 1677008902974,
     "user_tz": -60,
     "elapsed": 13,
     "user": {
      "displayName": "Isaac Esteban Herbozo Valladares",
      "userId": "13065562431296458180"
     }
    },
    "outputId": "ebd2c0ab-fcdb-4fe8-8814-a7359568ece2",
    "ExecuteTime": {
     "end_time": "2023-07-22T20:32:23.988227600Z",
     "start_time": "2023-07-22T20:32:23.868863Z"
    }
   },
   "execution_count": 73,
   "outputs": [
    {
     "data": {
      "text/plain": "(40, 40, 10, 10)"
     },
     "execution_count": 73,
     "metadata": {},
     "output_type": "execute_result"
    }
   ]
  },
  {
   "cell_type": "markdown",
   "source": [
    "Como podemos visualizar nuestos datos?\n",
    "\n",
    "https://matplotlib.org/stable/api/_as_gen/matplotlib.pyplot.scatter.html"
   ],
   "metadata": {
    "id": "R2bvq5ILhbcy"
   }
  },
  {
   "cell_type": "code",
   "source": [
    "def plot_predictions(train_data=x_train,\n",
    "                     train_labels=y_train,\n",
    "                     test_data=x_test,\n",
    "                     test_labels=y_test,\n",
    "                     predictions=None):\n",
    "  \"\"\"\n",
    "  Da los datos de entrenamiento, los datos de las pruebas y compara las predcciones\n",
    "  \"\"\"\n",
    "  plt.figure(figsize=(10, 7))\n",
    "\n",
    "  # Presentar los datos de entrenamiento en azul\n",
    "  plt.scatter(train_data, train_labels, c=\"b\", s=4, label=\"Datos de entrenamiento\")\n",
    "\n",
    "  # Presentar los datos de las pruebas en rojo \n",
    "  plt.scatter(test_data, test_labels, c=\"r\", s=4, label=\"Datos de pruebas\")\n",
    "\n",
    "  # Hay alguna predicccion?\n",
    "  if predictions is not None:\n",
    "    # Presentar las predicciones si es que existen\n",
    "    plt.scatter(test_data, predictions, c=\"g\", label=\"Predicciones\")\n",
    "\n",
    "  # Mostrar una leyenda\n",
    "  plt.legend(prop={\"size\": 14})\n"
   ],
   "metadata": {
    "id": "Pt9EctsIZGk-",
    "executionInfo": {
     "status": "ok",
     "timestamp": 1677008902974,
     "user_tz": -60,
     "elapsed": 10,
     "user": {
      "displayName": "Isaac Esteban Herbozo Valladares",
      "userId": "13065562431296458180"
     }
    },
    "ExecuteTime": {
     "end_time": "2023-07-22T20:32:24.099855500Z",
     "start_time": "2023-07-22T20:32:23.874769800Z"
    }
   },
   "execution_count": 74,
   "outputs": []
  },
  {
   "cell_type": "code",
   "source": [
    "plot_predictions()"
   ],
   "metadata": {
    "id": "hJCZLIkdZGiI",
    "colab": {
     "base_uri": "https://localhost:8080/",
     "height": 428
    },
    "executionInfo": {
     "status": "ok",
     "timestamp": 1677008903806,
     "user_tz": -60,
     "elapsed": 839,
     "user": {
      "displayName": "Isaac Esteban Herbozo Valladares",
      "userId": "13065562431296458180"
     }
    },
    "outputId": "543b8a2d-0caf-40ec-d5e3-773e12506b71",
    "ExecuteTime": {
     "end_time": "2023-07-22T20:32:24.180724800Z",
     "start_time": "2023-07-22T20:32:23.877318900Z"
    }
   },
   "execution_count": 75,
   "outputs": [
    {
     "data": {
      "text/plain": "<Figure size 1000x700 with 1 Axes>",
      "image/png": "[encoded data removed]"
     },
     "metadata": {},
     "output_type": "display_data"
    }
   ]
  },
  {
   "cell_type": "markdown",
   "source": [
    "## 2. Construir un modelo\n",
    "\n",
    "https://pytorch.org/docs/stable/generated/torch.nn.parameter.Parameter.html\n",
    "https://pytorch.org/docs/stable/generated/torch.nn.Module.html\n",
    "\n",
    "Este modelo:\n",
    "*  Empieza con valores aleatorios (weigths y bias)\n",
    "*  Mira a los valores de entrenamiento para representar de mejor manera (o acercarse a) los valore ideales (el weight y bias que han sido utilizados para crear los datos)\n",
    "\n",
    "Esto se hace principalmente mediante con dos algoritmos:\n",
    "1. Descenso gradual  (Gradual descent)\n",
    "2. \"Backpropagation\""
   ],
   "metadata": {
    "id": "oj7-zFHwZGfz"
   }
  },
  {
   "cell_type": "code",
   "source": [
    "# Crear una clase modelo para la regresion lineal\n",
    "class LinearRegressionModel(nn.Module): # Casi todo lo que se usara en Pytorch heredara de nn.module\n",
    "  def __init__(self):\n",
    "    super().__init__()\n",
    "\n",
    "    # Se inicializan los parametros de nuestro modelo\n",
    "    self.weights = nn.Parameter(torch.randn(1, out=None, dtype=torch.float, layout=torch.strided, device=None, requires_grad=True, pin_memory=False))\n",
    "    self.bias = nn.Parameter(torch.randn(1, out=None, dtype=torch.float, layout=torch.strided, device=None, requires_grad=True, pin_memory=False))  \n",
    "  \n",
    "  # forward() define la computacion del modelo\n",
    "  # cualquier subclase de nn.module necesitara sobreescribir el metodo forward()\n",
    "  def forward(self, x:torch.tensor) -> torch.tensor:\n",
    "    return self.weights * x + self.bias # Formula de la regresion lineal"
   ],
   "metadata": {
    "id": "kMjpdExiZGdL",
    "executionInfo": {
     "status": "ok",
     "timestamp": 1677008903807,
     "user_tz": -60,
     "elapsed": 34,
     "user": {
      "displayName": "Isaac Esteban Herbozo Valladares",
      "userId": "13065562431296458180"
     }
    },
    "ExecuteTime": {
     "end_time": "2023-07-22T20:32:24.180724800Z",
     "start_time": "2023-07-22T20:32:24.043452400Z"
    }
   },
   "execution_count": 76,
   "outputs": []
  },
  {
   "cell_type": "markdown",
   "source": [
    "### Cosas esenciales para construir modelos en PyTorch\n",
    "\n",
    "*  torch.nn => contiene todo lo necesario para crear graficos computacionales (una red neuronal es un grafico computacional)\n",
    "*  torch.nn.Parameter => Los parametros que nuestro modelo deberia de probar y aprender, normalmente una de las capas torch.nn  hara esto por nosotros\n",
    "*  torch.nn.Module => La clase base para todas las clases de redes neuronales. Si se usa se ha de sobreescribir el metodo forward()\n",
    "*  torch.optim => Aqui es donde estan todos los optimizadores de PyTorch, estos ayudan con el descenso gradual\n",
    "\n",
    "https://pytorch.org/tutorials/beginner/ptcheat.html"
   ],
   "metadata": {
    "id": "TCJs9cwOZGav"
   }
  },
  {
   "cell_type": "markdown",
   "source": [
    "### Chequear el contenido de nuestro modelo\n",
    "\n",
    "Podemos ver los parametros de nuestro modelo usando `.parameters`"
   ],
   "metadata": {
    "id": "uqQOc-COZGX2"
   }
  },
  {
   "cell_type": "code",
   "source": [
    "torch.manual_seed(42)\n",
    "\n",
    "# Crear una instancia del modelo\n",
    "\n",
    "model_0 = LinearRegressionModel()\n",
    "\n",
    "#list(model_0.parameters())\n",
    "model_0.state_dict()"
   ],
   "metadata": {
    "id": "H2Y5G5RGZGVZ",
    "colab": {
     "base_uri": "https://localhost:8080/"
    },
    "executionInfo": {
     "status": "ok",
     "timestamp": 1677008903808,
     "user_tz": -60,
     "elapsed": 32,
     "user": {
      "displayName": "Isaac Esteban Herbozo Valladares",
      "userId": "13065562431296458180"
     }
    },
    "outputId": "f5fcc494-0085-405a-afca-df7b40703c76",
    "ExecuteTime": {
     "end_time": "2023-07-22T20:32:24.180724800Z",
     "start_time": "2023-07-22T20:32:24.047214300Z"
    }
   },
   "execution_count": 77,
   "outputs": [
    {
     "data": {
      "text/plain": "OrderedDict([('weights', tensor([0.3367])), ('bias', tensor([0.1288]))])"
     },
     "execution_count": 77,
     "metadata": {},
     "output_type": "execute_result"
    }
   ]
  },
  {
   "cell_type": "code",
   "source": [
    "weight, bias"
   ],
   "metadata": {
    "id": "GmKp-AzuZGSk",
    "colab": {
     "base_uri": "https://localhost:8080/"
    },
    "executionInfo": {
     "status": "ok",
     "timestamp": 1677008903809,
     "user_tz": -60,
     "elapsed": 28,
     "user": {
      "displayName": "Isaac Esteban Herbozo Valladares",
      "userId": "13065562431296458180"
     }
    },
    "outputId": "841bf4b3-8720-421d-80f4-5e3593ee709f",
    "ExecuteTime": {
     "end_time": "2023-07-22T20:32:24.181722100Z",
     "start_time": "2023-07-22T20:32:24.051393400Z"
    }
   },
   "execution_count": 78,
   "outputs": [
    {
     "data": {
      "text/plain": "(0.7, 0.3)"
     },
     "execution_count": 78,
     "metadata": {},
     "output_type": "execute_result"
    }
   ]
  },
  {
   "cell_type": "markdown",
   "source": [
    "### Hacer predicciones con torch.inference_mode()\n",
    "\n",
    "Para ver el poder de prediccion de nuestro modelo, vamos a ver que tan bien puede predecir `y_test` basado e los datos de `x_test`.\n",
    "\n",
    "Cuando pasamos datos a nuestro modelo los va a ejecutar a traves del metodo `fordward()`.\n",
    "\n",
    "https://pytorch.org/docs/stable/generated/torch.inference_mode.html"
   ],
   "metadata": {
    "id": "OexNxiGlmX77"
   }
  },
  {
   "cell_type": "code",
   "source": [
    "with torch.inference_mode():\n",
    "  y_preds = model_0(x_test)"
   ],
   "metadata": {
    "id": "3NfvOtSJZGP6",
    "executionInfo": {
     "status": "ok",
     "timestamp": 1677008903810,
     "user_tz": -60,
     "elapsed": 26,
     "user": {
      "displayName": "Isaac Esteban Herbozo Valladares",
      "userId": "13065562431296458180"
     }
    },
    "ExecuteTime": {
     "end_time": "2023-07-22T20:32:24.181722100Z",
     "start_time": "2023-07-22T20:32:24.056520300Z"
    }
   },
   "execution_count": 79,
   "outputs": []
  },
  {
   "cell_type": "code",
   "source": [
    "plot_predictions(predictions=y_preds)"
   ],
   "metadata": {
    "id": "3iD9z6vTZGNZ",
    "executionInfo": {
     "status": "ok",
     "timestamp": 1677008903812,
     "user_tz": -60,
     "elapsed": 27,
     "user": {
      "displayName": "Isaac Esteban Herbozo Valladares",
      "userId": "13065562431296458180"
     }
    },
    "colab": {
     "base_uri": "https://localhost:8080/",
     "height": 428
    },
    "outputId": "52683ea1-080b-4e13-bf0d-8e18c6bbac4e",
    "ExecuteTime": {
     "end_time": "2023-07-22T20:32:24.264709200Z",
     "start_time": "2023-07-22T20:32:24.060020500Z"
    }
   },
   "execution_count": 80,
   "outputs": [
    {
     "data": {
      "text/plain": "<Figure size 1000x700 with 1 Axes>",
      "image/png": "[encoded data removed]"
     },
     "metadata": {},
     "output_type": "display_data"
    }
   ]
  },
  {
   "cell_type": "markdown",
   "source": [
    "## 3. Entrenar el modelo\n",
    "\n",
    "La idea de entrenar un modelo es para pasar de unos parametros *desconocidos* (que podrian ser aleatorios) a unos parametros *conocidos*.\n",
    "\n",
    "En otras palabras, de una representacion pobre de los datos a una mas certera.\n",
    "\n",
    "Otra manera de medir que tan mal estan las predicciones de nuestro modelo es usar una \"loss function\".\n",
    "\n",
    "Cosas que necesitamos para el entrenamiento:\n",
    "\n",
    "*  **Loss functions:** Una funcion para medir que tan mal estan las preddiciones del modelo a los outputs ideales. Mientras menor, mejor.\n",
    "*  **Optimizer:** Tiene en cuenta los errores del modelo y ajusta los parametros del modelo en consecuencia (en este caso weigh y bias).\n",
    "\n",
    "Especificamente para PyTorch necesitamos:\n",
    "\n",
    "*  Un loop de entrenamiento.\n",
    "*  Un loop de pruebas\n",
    "\n",
    "https://neptune.ai/blog/pytorch-loss-functions\n",
    "\n",
    "https://pytorch.org/docs/stable/optim.html\n",
    "\n",
    "https://pytorch.org/tutorials/beginner/basics/optimization_tutorial.html"
   ],
   "metadata": {
    "id": "ziJb7XUvZGKn"
   }
  },
  {
   "cell_type": "code",
   "source": [
    "# Inizializar una \"loss function\"\n",
    "loss_fn = nn.L1Loss()\n",
    "# Esto es equivalente a hacer:\n",
    "# loss_fn = torch.mean(torch.abs(y_pred - y_test))\n",
    "\n",
    "# Inicializar un \"optimizer\" (En este caso se usa optim.SGD, siglas para \"stochastic(aleatorio) gradiant descent\")\n",
    "optimizer = torch.optim.SGD(params = model_0.parameters(), lr = 0.01)  # lr son siglas para \"learning rate\". Se trata de uno de los hyperparametros mas importantes y detemina la posicion decimal en la que se va a hacer el cambio en nuestros parametros"
   ],
   "metadata": {
    "id": "G9NshRO7ZGH-",
    "executionInfo": {
     "status": "ok",
     "timestamp": 1677008903813,
     "user_tz": -60,
     "elapsed": 26,
     "user": {
      "displayName": "Isaac Esteban Herbozo Valladares",
      "userId": "13065562431296458180"
     }
    },
    "ExecuteTime": {
     "end_time": "2023-07-22T20:32:24.264709200Z",
     "start_time": "2023-07-22T20:32:24.243177500Z"
    }
   },
   "execution_count": 81,
   "outputs": []
  },
  {
   "cell_type": "markdown",
   "source": [
    " ### Construir el bucle de entrenamiento\n",
    "\n",
    " Cosas necesarias en los bucles de entrenamiento:\n",
    " 1. Tener un loop a traves de nuestros datos.\n",
    " 2. \"Fordward pass\", esto conlleva tener nuestros datos pasar a traves de el metodo `fordard()` para hacer las predicciones.\n",
    " 3. Calcular la perdida comparando las predicciones con los datos.\n",
    " 4. \"Optimizer zero grad\"\n",
    " 5. \"Loss backward\", nos movemos marcha atras a traves de los datos para calcular los gradiantes de nuestros parametros con la perdida.  (**backpropagation**)\n",
    " 6. \"Optimizer step\", usa el optimizer para ajustar los parametros de nuestro modelo minimizando la perdida. (**gradient descent**)"
   ],
   "metadata": {
    "id": "F6YgxAGiZGFO"
   }
  },
  {
   "cell_type": "code",
   "source": [
    "# Un epoch es un ciclo sobre nuestros datos\n",
    "epochs = 200\n",
    "\n",
    "# Llevar registro de los diferentes valores\n",
    "epoch_count = []\n",
    "loss_values = []\n",
    "test_loss_values = []\n",
    "\n",
    "# 1. Ciclar sobre el numero de epochs\n",
    "for epoch in range(epochs):\n",
    "  # Colocar el modelo en modo entrenamiento\n",
    "  model_0.train() # El modo entrenamiento hace que todos los parametros que hemos marcado que necesitan gradiantes, requieran gradiantes.\n",
    "\n",
    "  # 2. Fordward pass\n",
    "  y_pred = model_0(x_train)\n",
    "\n",
    "  # 3. Calcular la perdida\n",
    "  loss = loss_fn(y_pred, y_train)\n",
    "  #print(f\"Loss:{loss}\")\n",
    "\n",
    "  # 4. Optimizer zero grad\n",
    "  optimizer.zero_grad()\n",
    "\n",
    "  # 5. Se realiza la backpropagation\n",
    "  loss.backward() # Esto calcula los gradiantes de los parametros con respecto a la perdida\n",
    "\n",
    "  # 6. Se avanza el optimizer (gradient descent)\n",
    "  optimizer.step()  # De esta manera es se acumularan los cambios del optimizer a traves del ciclo. Es por esto que estos se ponen a cero en la siguiente iteracion del loop en el paso 3\n",
    "\n",
    "  # Iniciar el modo de pruebas\n",
    "  model_0.eval() # Deshabilita varias funciones del modelo que no son necesarias durante las pruebas\n",
    "\n",
    "  with torch.inference_mode(): # Deshabilia el el seguimiento de gradiantes ya que en este momento no es necesario\n",
    "    # 1.\n",
    "    test_pred = model_0(x_test)\n",
    "\n",
    "    #2.\n",
    "    test_loss = loss_fn(test_pred, y_test)\n",
    "\n",
    "  # Para ver lo que está pasando\n",
    "  if epoch % 10 == 0:\n",
    "    epoch_count.append(epoch)\n",
    "    loss_values.append(loss)\n",
    "    test_loss_values.append(test_loss)\n",
    "\n",
    "    print(f\"Epoch: {epoch} | Loss: {loss} | Test loss {test_loss}\")\n",
    "    print(model_0.state_dict())"
   ],
   "metadata": {
    "id": "30l5sWHa2ssL",
    "colab": {
     "base_uri": "https://localhost:8080/"
    },
    "executionInfo": {
     "status": "ok",
     "timestamp": 1677008904121,
     "user_tz": -60,
     "elapsed": 333,
     "user": {
      "displayName": "Isaac Esteban Herbozo Valladares",
      "userId": "13065562431296458180"
     }
    },
    "outputId": "6ad1bac5-72ef-4751-ac5f-ddf2c81693f4",
    "ExecuteTime": {
     "end_time": "2023-07-22T20:32:24.369834100Z",
     "start_time": "2023-07-22T20:32:24.247230900Z"
    }
   },
   "execution_count": 82,
   "outputs": [
    {
     "name": "stdout",
     "output_type": "stream",
     "text": [
      "Epoch: 0 | Loss: 0.31288138031959534 | Test loss 0.48106518387794495\n",
      "OrderedDict([('weights', tensor([0.3406])), ('bias', tensor([0.1388]))])\n",
      "Epoch: 10 | Loss: 0.1976713240146637 | Test loss 0.3463551998138428\n",
      "OrderedDict([('weights', tensor([0.3796])), ('bias', tensor([0.2388]))])\n",
      "Epoch: 20 | Loss: 0.08908725529909134 | Test loss 0.21729660034179688\n",
      "OrderedDict([('weights', tensor([0.4184])), ('bias', tensor([0.3333]))])\n",
      "Epoch: 30 | Loss: 0.053148526698350906 | Test loss 0.14464017748832703\n",
      "OrderedDict([('weights', tensor([0.4512])), ('bias', tensor([0.3768]))])\n",
      "Epoch: 40 | Loss: 0.04543796554207802 | Test loss 0.11360953003168106\n",
      "OrderedDict([('weights', tensor([0.4748])), ('bias', tensor([0.3868]))])\n",
      "Epoch: 50 | Loss: 0.04167863354086876 | Test loss 0.09919948130846024\n",
      "OrderedDict([('weights', tensor([0.4938])), ('bias', tensor([0.3843]))])\n",
      "Epoch: 60 | Loss: 0.03818932920694351 | Test loss 0.08886633068323135\n",
      "OrderedDict([('weights', tensor([0.5116])), ('bias', tensor([0.3788]))])\n",
      "Epoch: 70 | Loss: 0.03476089984178543 | Test loss 0.0805937647819519\n",
      "OrderedDict([('weights', tensor([0.5288])), ('bias', tensor([0.3718]))])\n",
      "Epoch: 80 | Loss: 0.03132382780313492 | Test loss 0.07232122868299484\n",
      "OrderedDict([('weights', tensor([0.5459])), ('bias', tensor([0.3648]))])\n",
      "Epoch: 90 | Loss: 0.02788739837706089 | Test loss 0.06473556160926819\n",
      "OrderedDict([('weights', tensor([0.5629])), ('bias', tensor([0.3573]))])\n",
      "Epoch: 100 | Loss: 0.024458957836031914 | Test loss 0.05646304413676262\n",
      "OrderedDict([('weights', tensor([0.5800])), ('bias', tensor([0.3503]))])\n",
      "Epoch: 110 | Loss: 0.021020207554101944 | Test loss 0.04819049686193466\n",
      "OrderedDict([('weights', tensor([0.5972])), ('bias', tensor([0.3433]))])\n",
      "Epoch: 120 | Loss: 0.01758546568453312 | Test loss 0.04060482233762741\n",
      "OrderedDict([('weights', tensor([0.6141])), ('bias', tensor([0.3358]))])\n",
      "Epoch: 130 | Loss: 0.014155393466353416 | Test loss 0.03233227878808975\n",
      "OrderedDict([('weights', tensor([0.6313])), ('bias', tensor([0.3288]))])\n",
      "Epoch: 140 | Loss: 0.010716589167714119 | Test loss 0.024059748277068138\n",
      "OrderedDict([('weights', tensor([0.6485])), ('bias', tensor([0.3218]))])\n",
      "Epoch: 150 | Loss: 0.0072835334576666355 | Test loss 0.016474086791276932\n",
      "OrderedDict([('weights', tensor([0.6654])), ('bias', tensor([0.3143]))])\n",
      "Epoch: 160 | Loss: 0.0038517764769494534 | Test loss 0.008201557211577892\n",
      "OrderedDict([('weights', tensor([0.6826])), ('bias', tensor([0.3073]))])\n",
      "Epoch: 170 | Loss: 0.008932482451200485 | Test loss 0.005023092031478882\n",
      "OrderedDict([('weights', tensor([0.6951])), ('bias', tensor([0.2993]))])\n",
      "Epoch: 180 | Loss: 0.008932482451200485 | Test loss 0.005023092031478882\n",
      "OrderedDict([('weights', tensor([0.6951])), ('bias', tensor([0.2993]))])\n",
      "Epoch: 190 | Loss: 0.008932482451200485 | Test loss 0.005023092031478882\n",
      "OrderedDict([('weights', tensor([0.6951])), ('bias', tensor([0.2993]))])\n"
     ]
    }
   ]
  },
  {
   "cell_type": "code",
   "source": [
    "with torch.inference_mode():\n",
    "  y_preds_nuevo = model_0(x_test)"
   ],
   "metadata": {
    "id": "lmVA0tDy2sow",
    "executionInfo": {
     "status": "ok",
     "timestamp": 1677008904122,
     "user_tz": -60,
     "elapsed": 11,
     "user": {
      "displayName": "Isaac Esteban Herbozo Valladares",
      "userId": "13065562431296458180"
     }
    },
    "ExecuteTime": {
     "end_time": "2023-07-22T20:32:24.369834100Z",
     "start_time": "2023-07-22T20:32:24.319880600Z"
    }
   },
   "execution_count": 83,
   "outputs": []
  },
  {
   "cell_type": "code",
   "source": [
    "plot_predictions(predictions = y_preds_nuevo)"
   ],
   "metadata": {
    "id": "ckSkGgdc2slz",
    "colab": {
     "base_uri": "https://localhost:8080/",
     "height": 428
    },
    "executionInfo": {
     "status": "ok",
     "timestamp": 1677008904122,
     "user_tz": -60,
     "elapsed": 11,
     "user": {
      "displayName": "Isaac Esteban Herbozo Valladares",
      "userId": "13065562431296458180"
     }
    },
    "outputId": "d622376d-aabc-452a-9bed-0ce277c82fc9",
    "ExecuteTime": {
     "end_time": "2023-07-22T20:32:24.504747600Z",
     "start_time": "2023-07-22T20:32:24.321411100Z"
    }
   },
   "execution_count": 84,
   "outputs": [
    {
     "data": {
      "text/plain": "<Figure size 1000x700 with 1 Axes>",
      "image/png": "[encoded data removed]"
     },
     "metadata": {},
     "output_type": "display_data"
    }
   ]
  },
  {
   "cell_type": "code",
   "source": [
    "# Mostrar las curvas de loss\n",
    "plt.plot(epoch_count, np.array(torch.tensor(loss_values).numpy()), label = \"Train Loss\") # Las listas han de contener valores de numpy para que esto funcione\n",
    "plt.plot(epoch_count, np.array(torch.tensor(test_loss_values).numpy()), label = \"Test loss\")\n",
    "plt.title(\"Curvas de la perdida en entrenamiento y en pruebas\")\n",
    "plt.ylabel(\"Loss\")\n",
    "plt.xlabel(\"Epochs\")\n",
    "plt.legend()"
   ],
   "metadata": {
    "id": "eSUVNXk82si9",
    "colab": {
     "base_uri": "https://localhost:8080/",
     "height": 312
    },
    "executionInfo": {
     "status": "ok",
     "timestamp": 1677008904545,
     "user_tz": -60,
     "elapsed": 433,
     "user": {
      "displayName": "Isaac Esteban Herbozo Valladares",
      "userId": "13065562431296458180"
     }
    },
    "outputId": "f12ee554-d63e-48e8-a20d-4c63619fab54",
    "ExecuteTime": {
     "end_time": "2023-07-22T20:32:24.661898900Z",
     "start_time": "2023-07-22T20:32:24.506784300Z"
    }
   },
   "execution_count": 85,
   "outputs": [
    {
     "data": {
      "text/plain": "<matplotlib.legend.Legend at 0x1b389fa4750>"
     },
     "execution_count": 85,
     "metadata": {},
     "output_type": "execute_result"
    },
    {
     "data": {
      "text/plain": "<Figure size 640x480 with 1 Axes>",
      "image/png": "[encoded data removed]"
     },
     "metadata": {},
     "output_type": "display_data"
    }
   ]
  },
  {
   "cell_type": "markdown",
   "source": [
    "## Guardar un modelo\n",
    "\n",
    "Hay tres metodos principales para guardar y cargar los modelos en PyTorch.\n",
    "1. `Torch.save()` => Te permite guardar un objeto de PyTorch en el formato pickle de python\n",
    "2. `Torch.load()` => Te permite cargar un objeto de PyTorch\n",
    "3. `Torch.nn.Module.load_state_dict()` => Te permite cargar el diccionario del estado de un modelo\n",
    "\n",
    "https://pytorch.org/tutorials/beginner/saving_loading_models.html"
   ],
   "metadata": {
    "id": "lFQcG0h_Mizh"
   }
  },
  {
   "cell_type": "code",
   "source": [
    "from pathlib import Path\n",
    "\n",
    "# Crear un directorio para el modelo\n",
    "MODEL_PATH = Path(\"models\")\n",
    "MODEL_PATH.mkdir(parents = True, exist_ok= True)\n",
    "\n",
    "# Asignarle un nombre a el archivo de nuestro modelo\n",
    "MODEL_NAME = \"01_pytoch_workflow_model_0.pth\"   # Los modelos de pytorch tendran la extension .pth\n",
    "MODEL_SAVE_PATH = MODEL_PATH / MODEL_NAME\n",
    "\n",
    "# Guardad nuestros modelos\n",
    "torch.save(obj=model_0.state_dict(), f=MODEL_SAVE_PATH)"
   ],
   "metadata": {
    "id": "p4rlEe9qd-ZG",
    "executionInfo": {
     "status": "ok",
     "timestamp": 1677008904549,
     "user_tz": -60,
     "elapsed": 19,
     "user": {
      "displayName": "Isaac Esteban Herbozo Valladares",
      "userId": "13065562431296458180"
     }
    },
    "ExecuteTime": {
     "end_time": "2023-07-22T20:32:24.666796300Z",
     "start_time": "2023-07-22T20:32:24.661898900Z"
    }
   },
   "execution_count": 86,
   "outputs": []
  },
  {
   "cell_type": "markdown",
   "source": [
    "## Cargar un modelo de Pytorch\n",
    "\n",
    "Como lo que se ha guardado ha sido el `state_dict()` de nuestro modelo, para cargarlo primero tenremos que crear una instancia de la clase y cargar el `state_dict()` en ella."
   ],
   "metadata": {
    "id": "tNqma_ZoiMAf"
   }
  },
  {
   "cell_type": "code",
   "source": [
    "# Creamos una nueva instacia de la clase de nuestro modelo\n",
    "model_0_loaded = LinearRegressionModel()\n",
    "\n",
    "# Cargamos el state_dict() que habiamos guardado en el modelo nuevo\n",
    "model_0_loaded.load_state_dict(torch.load(f = MODEL_SAVE_PATH))\n",
    "\n",
    "# Comprobamos que los parametros son los mismos haciendo predicciones con el modelo cargado\n",
    "model_0_loaded.eval()\n",
    "with torch.inference_mode():\n",
    "  loaded_model_preds = model_0_loaded(x_test)\n",
    "\n",
    "loaded_model_preds"
   ],
   "metadata": {
    "id": "kBj2cIpCiL9F",
    "ExecuteTime": {
     "end_time": "2023-07-22T20:32:24.672014800Z",
     "start_time": "2023-07-22T20:32:24.667751800Z"
    }
   },
   "execution_count": 87,
   "outputs": [
    {
     "data": {
      "text/plain": "tensor([[0.8685],\n        [0.8825],\n        [0.8965],\n        [0.9105],\n        [0.9245],\n        [0.9384],\n        [0.9524],\n        [0.9664],\n        [0.9804],\n        [0.9944]])"
     },
     "execution_count": 87,
     "metadata": {},
     "output_type": "execute_result"
    }
   ]
  },
  {
   "cell_type": "code",
   "source": [
    "model_0.eval()\n",
    "with torch.inference_mode():\n",
    "  y_preds = model_0(x_test)\n",
    "\n",
    "y_preds"
   ],
   "metadata": {
    "id": "dQ8jkZIeiL6f",
    "ExecuteTime": {
     "end_time": "2023-07-22T20:32:24.677603100Z",
     "start_time": "2023-07-22T20:32:24.673012200Z"
    }
   },
   "execution_count": 88,
   "outputs": [
    {
     "data": {
      "text/plain": "tensor([[0.8685],\n        [0.8825],\n        [0.8965],\n        [0.9105],\n        [0.9245],\n        [0.9384],\n        [0.9524],\n        [0.9664],\n        [0.9804],\n        [0.9944]])"
     },
     "execution_count": 88,
     "metadata": {},
     "output_type": "execute_result"
    }
   ]
  },
  {
   "cell_type": "code",
   "source": [
    "# Comprobamos estas predicciones con las que habiamos hecho antes\n",
    "y_preds == loaded_model_preds"
   ],
   "metadata": {
    "id": "NTW8nkrXiL2K",
    "ExecuteTime": {
     "end_time": "2023-07-22T20:32:24.680678100Z",
     "start_time": "2023-07-22T20:32:24.677603100Z"
    }
   },
   "execution_count": 89,
   "outputs": [
    {
     "data": {
      "text/plain": "tensor([[True],\n        [True],\n        [True],\n        [True],\n        [True],\n        [True],\n        [True],\n        [True],\n        [True],\n        [True]])"
     },
     "execution_count": 89,
     "metadata": {},
     "output_type": "execute_result"
    }
   ]
  },
  {
   "cell_type": "markdown",
   "source": [
    "## Poniendolo todo junto\n",
    "\n",
    "Vamos a ir algunos pasos atras y ponerlo todo en un solo sitio."
   ],
   "metadata": {
    "collapsed": false
   }
  },
  {
   "cell_type": "code",
   "execution_count": 90,
   "outputs": [
    {
     "name": "stdout",
     "output_type": "stream",
     "text": [
      "Usando PyTorch version: 2.0.1\n"
     ]
    }
   ],
   "source": [
    "# importar pytorch y matplotlib\n",
    "import torch\n",
    "from torch import nn\n",
    "import matplotlib.pyplot as plt\n",
    "\n",
    "# Chequear la version de pytorch\n",
    "print(f\"Usando PyTorch version: {torch.__version__}\")"
   ],
   "metadata": {
    "collapsed": false,
    "ExecuteTime": {
     "end_time": "2023-07-22T20:32:24.684783100Z",
     "start_time": "2023-07-22T20:32:24.682672400Z"
    }
   }
  },
  {
   "cell_type": "markdown",
   "source": [
    "Crearemos codigo que tenga en cuenta los dispositivos disponibles.\n",
    "\n",
    "Esto quiere decir que si tenemos una GPU, usaremos la GPU y si no, usaremos la CPU (Para una computacion más veloz)."
   ],
   "metadata": {
    "collapsed": false
   }
  },
  {
   "cell_type": "code",
   "execution_count": 91,
   "outputs": [
    {
     "name": "stdout",
     "output_type": "stream",
     "text": [
      "Usando cuda device\n"
     ]
    }
   ],
   "source": [
    "# Inicializar el codigo para que tenga en cuenta los dispositivos disponibles\n",
    "device = \"cuda\" if torch.cuda.is_available() else \"cpu\"\n",
    "print(f\"Usando {device} device\")"
   ],
   "metadata": {
    "collapsed": false,
    "ExecuteTime": {
     "end_time": "2023-07-22T20:32:24.688663600Z",
     "start_time": "2023-07-22T20:32:24.686158900Z"
    }
   }
  },
  {
   "cell_type": "markdown",
   "source": [
    "### Datos"
   ],
   "metadata": {
    "collapsed": false
   }
  },
  {
   "cell_type": "code",
   "execution_count": 92,
   "outputs": [
    {
     "data": {
      "text/plain": "(tensor([[0.0000],\n         [0.0200],\n         [0.0400],\n         [0.0600],\n         [0.0800],\n         [0.1000],\n         [0.1200],\n         [0.1400],\n         [0.1600],\n         [0.1800]]),\n tensor([[0.3000],\n         [0.3140],\n         [0.3280],\n         [0.3420],\n         [0.3560],\n         [0.3700],\n         [0.3840],\n         [0.3980],\n         [0.4120],\n         [0.4260]]))"
     },
     "execution_count": 92,
     "metadata": {},
     "output_type": "execute_result"
    }
   ],
   "source": [
    "# Crear unos datos utilizando la fórmula de la regresion lineal de: y = weight * x + bias\n",
    "weight = 0.7\n",
    "bias = 0.3\n",
    "\n",
    "# Crer un rango de valores\n",
    "inicio = 0\n",
    "fin = 1\n",
    "step = 0.02\n",
    "\n",
    "# Crear x e y\n",
    "x = torch.arange(inicio, fin, step).unsqueeze(dim = 1) # Unsqueeze añade una dimension extra a nuestros datos, sin esta dimension extra, el modelo no funcionaria\n",
    "y = weight * x + bias\n",
    "x[:10], y[:10]"
   ],
   "metadata": {
    "collapsed": false,
    "ExecuteTime": {
     "end_time": "2023-07-22T20:32:24.796802700Z",
     "start_time": "2023-07-22T20:32:24.691655400Z"
    }
   }
  },
  {
   "cell_type": "code",
   "execution_count": 93,
   "outputs": [],
   "source": [
    "# Dividiremos los datos\n",
    "division_de_entrenamiento = int(0.8 * len(x))\n",
    "x_train, y_train = x[:division_de_entrenamiento], y[:division_de_entrenamiento] # 80% de los datos para entrenamiento\n",
    "x_test, y_test = x[division_de_entrenamiento:], y[division_de_entrenamiento:] # 20% de los datos para pruebas"
   ],
   "metadata": {
    "collapsed": false,
    "ExecuteTime": {
     "end_time": "2023-07-22T20:32:24.797800200Z",
     "start_time": "2023-07-22T20:32:24.697388700Z"
    }
   }
  },
  {
   "cell_type": "code",
   "execution_count": 94,
   "outputs": [
    {
     "data": {
      "text/plain": "<Figure size 1000x700 with 1 Axes>",
      "image/png": "[encoded data removed]"
     },
     "metadata": {},
     "output_type": "display_data"
    }
   ],
   "source": [
    "# Visualizar los datos\n",
    "plot_predictions(train_data=x_train,\n",
    "                 train_labels=y_train,\n",
    "                 test_data=x_test,\n",
    "                 test_labels=y_test)"
   ],
   "metadata": {
    "collapsed": false,
    "ExecuteTime": {
     "end_time": "2023-07-22T20:32:24.860542600Z",
     "start_time": "2023-07-22T20:32:24.699894600Z"
    }
   }
  },
  {
   "cell_type": "markdown",
   "source": [
    "### Crear el modelo linear de pytorch\n",
    "\n",
    "https://pytorch.org/docs/stable/generated/torch.nn.Linear.html"
   ],
   "metadata": {
    "collapsed": false
   }
  },
  {
   "cell_type": "code",
   "execution_count": 95,
   "outputs": [
    {
     "data": {
      "text/plain": "(ModeloDeRegresionLineal(\n   (linear_layer): Linear(in_features=1, out_features=1, bias=True)\n ),\n OrderedDict([('linear_layer.weight', tensor([[0.7645]])),\n              ('linear_layer.bias', tensor([0.8300]))]))"
     },
     "execution_count": 95,
     "metadata": {},
     "output_type": "execute_result"
    }
   ],
   "source": [
    "# Creamos un modelo lineal heredando de nn.Module\n",
    "class ModeloDeRegresionLineal(nn.Module):\n",
    "  def __init__(self):\n",
    "    super().__init__()\n",
    "\n",
    "    # Usamos nn.Linear para crear los parametros del modelo\n",
    "    self.linear_layer = nn.Linear(in_features=1, out_features=1)\n",
    "\n",
    "  def forward(self, x:torch.tensor) -> torch.tensor:\n",
    "    return self.linear_layer(x)\n",
    "\n",
    "torch.manual_seed(42)\n",
    "model_1 = ModeloDeRegresionLineal()\n",
    "model_1, model_1.state_dict()"
   ],
   "metadata": {
    "collapsed": false,
    "ExecuteTime": {
     "end_time": "2023-07-22T20:32:24.866276300Z",
     "start_time": "2023-07-22T20:32:24.860542600Z"
    }
   }
  },
  {
   "cell_type": "code",
   "execution_count": 96,
   "outputs": [
    {
     "data": {
      "text/plain": "device(type='cuda', index=0)"
     },
     "execution_count": 96,
     "metadata": {},
     "output_type": "execute_result"
    }
   ],
   "source": [
    "# Hacemos que nuestro modelo utilice el dispositivo que hemos elegido\n",
    "model_1.to(device)\n",
    "next(model_1.parameters()).device # Comprobamos que el dispositivo es el que hemos elegido"
   ],
   "metadata": {
    "collapsed": false,
    "ExecuteTime": {
     "end_time": "2023-07-22T20:32:24.870491300Z",
     "start_time": "2023-07-22T20:32:24.867276300Z"
    }
   }
  },
  {
   "cell_type": "markdown",
   "source": [
    "### Entrenar el modelo\n",
    "Para entrenar el modelo necesitamos:\n",
    "* Una funcion de perdida\n",
    "* Un optimizador\n",
    "* Un loop de entrenamiento\n",
    "* Un loop de pruebas"
   ],
   "metadata": {
    "collapsed": false
   }
  },
  {
   "cell_type": "code",
   "execution_count": 97,
   "outputs": [],
   "source": [
    "# inicializar la funcion de perdida\n",
    "loss_fn = nn.L1Loss()\n",
    "\n",
    "# Inicializar el optimizador\n",
    "optimizer = torch.optim.SGD(params=model_1.parameters(), lr=0.01)"
   ],
   "metadata": {
    "collapsed": false,
    "ExecuteTime": {
     "end_time": "2023-07-22T20:32:24.873777800Z",
     "start_time": "2023-07-22T20:32:24.872268300Z"
    }
   }
  },
  {
   "cell_type": "code",
   "execution_count": 98,
   "outputs": [
    {
     "name": "stdout",
     "output_type": "stream",
     "text": [
      "Epoch: 0 | Loss: 0.5551779866218567 | Test loss: 0.5739762187004089\n",
      "Epoch: 10 | Loss: 0.439968079328537 | Test loss: 0.4392664134502411\n",
      "Epoch: 20 | Loss: 0.3247582018375397 | Test loss: 0.30455657839775085\n",
      "Epoch: 30 | Loss: 0.20954833924770355 | Test loss: 0.16984669864177704\n",
      "Epoch: 40 | Loss: 0.09433845430612564 | Test loss: 0.03513690456748009\n",
      "Epoch: 50 | Loss: 0.023886388167738914 | Test loss: 0.04784907028079033\n",
      "Epoch: 60 | Loss: 0.019956795498728752 | Test loss: 0.045803118497133255\n",
      "Epoch: 70 | Loss: 0.016517987474799156 | Test loss: 0.037530567497015\n",
      "Epoch: 80 | Loss: 0.013089174404740334 | Test loss: 0.02994490973651409\n",
      "Epoch: 90 | Loss: 0.009653178043663502 | Test loss: 0.02167237363755703\n",
      "Epoch: 100 | Loss: 0.006215683650225401 | Test loss: 0.014086711220443249\n",
      "Epoch: 110 | Loss: 0.00278724217787385 | Test loss: 0.005814164876937866\n",
      "Epoch: 120 | Loss: 0.0012645035749301314 | Test loss: 0.013801801018416882\n",
      "Epoch: 130 | Loss: 0.0012645035749301314 | Test loss: 0.013801801018416882\n",
      "Epoch: 140 | Loss: 0.0012645035749301314 | Test loss: 0.013801801018416882\n",
      "Epoch: 150 | Loss: 0.0012645035749301314 | Test loss: 0.013801801018416882\n",
      "Epoch: 160 | Loss: 0.0012645035749301314 | Test loss: 0.013801801018416882\n",
      "Epoch: 170 | Loss: 0.0012645035749301314 | Test loss: 0.013801801018416882\n",
      "Epoch: 180 | Loss: 0.0012645035749301314 | Test loss: 0.013801801018416882\n",
      "Epoch: 190 | Loss: 0.0012645035749301314 | Test loss: 0.013801801018416882\n"
     ]
    }
   ],
   "source": [
    "# Crear el loop de entrenamiento\n",
    "torch.manual_seed(42)\n",
    "\n",
    "epoch = 200\n",
    "\n",
    "# Ponemos los datos en el dispositivo que hemos elegido\n",
    "x_train = x_train.to(device)\n",
    "y_train = y_train.to(device)\n",
    "x_test = x_test.to(device)\n",
    "y_test = y_test.to(device)\n",
    "\n",
    "for epoch in range(epoch):\n",
    "  model_1.train() # Colocar el modelo en modo entrenamiento\n",
    "\n",
    "  # 1. Fordward pass\n",
    "  y_pred = model_1(x_train)\n",
    "\n",
    "  # 2. Calcular la perdida\n",
    "  loss = loss_fn(y_pred, y_train)\n",
    "\n",
    "  # 3. Optimizer zero grad\n",
    "  optimizer.zero_grad()\n",
    "\n",
    "  # 4. Backpropagation\n",
    "  loss.backward()\n",
    "\n",
    "  # 5. Optimizer step\n",
    "  optimizer.step()\n",
    "\n",
    "  ### Testing\n",
    "  model_1.eval() # Colocar el modelo en modo pruebas\n",
    "  with torch.inference_mode():\n",
    "    test_pred = model_1(x_test)\n",
    "    test_loss = loss_fn(test_pred, y_test)\n",
    "\n",
    "  if epoch % 10 == 0:\n",
    "    print(f\"Epoch: {epoch} | Loss: {loss} | Test loss: {test_loss}\")"
   ],
   "metadata": {
    "collapsed": false,
    "ExecuteTime": {
     "end_time": "2023-07-22T20:32:25.013687800Z",
     "start_time": "2023-07-22T20:32:24.876402700Z"
    }
   }
  },
  {
   "cell_type": "code",
   "execution_count": 99,
   "outputs": [
    {
     "data": {
      "text/plain": "OrderedDict([('linear_layer.weight', tensor([[0.6968]], device='cuda:0')),\n             ('linear_layer.bias', tensor([0.3025], device='cuda:0'))])"
     },
     "execution_count": 99,
     "metadata": {},
     "output_type": "execute_result"
    }
   ],
   "source": [
    "model_1.state_dict()"
   ],
   "metadata": {
    "collapsed": false,
    "ExecuteTime": {
     "end_time": "2023-07-22T20:32:25.018532300Z",
     "start_time": "2023-07-22T20:32:25.014684800Z"
    }
   }
  },
  {
   "cell_type": "code",
   "execution_count": 100,
   "outputs": [
    {
     "data": {
      "text/plain": "tensor([[0.8600],\n        [0.8739],\n        [0.8878],\n        [0.9018],\n        [0.9157],\n        [0.9296],\n        [0.9436],\n        [0.9575],\n        [0.9714],\n        [0.9854]], device='cuda:0')"
     },
     "execution_count": 100,
     "metadata": {},
     "output_type": "execute_result"
    }
   ],
   "source": [
    "# Hacer predicciones con el modelo entrenado\n",
    "model_1.eval()\n",
    "#Hacemos predicciones con los datos de test\n",
    "with torch.inference_mode():\n",
    "  y_preds = model_1(x_test)\n",
    "\n",
    "y_preds"
   ],
   "metadata": {
    "collapsed": false,
    "ExecuteTime": {
     "end_time": "2023-07-22T20:32:25.025520900Z",
     "start_time": "2023-07-22T20:32:25.020527700Z"
    }
   }
  },
  {
   "cell_type": "code",
   "execution_count": 101,
   "outputs": [
    {
     "data": {
      "text/plain": "<Figure size 1000x700 with 1 Axes>",
      "image/png": "[encoded data removed]"
     },
     "metadata": {},
     "output_type": "display_data"
    }
   ],
   "source": [
    "# Visualizar las predicciones\n",
    "plot_predictions(predictions=y_preds.to(\"cpu\"))"
   ],
   "metadata": {
    "collapsed": false,
    "ExecuteTime": {
     "end_time": "2023-07-22T20:32:25.208124500Z",
     "start_time": "2023-07-22T20:32:25.026850600Z"
    }
   }
  },
  {
   "cell_type": "markdown",
   "source": [
    "### Guardar y cargar un modelo\n",
    "\n",
    "https://pytorch.org/tutorials/beginner/saving_loading_models.html"
   ],
   "metadata": {
    "collapsed": false
   }
  },
  {
   "cell_type": "code",
   "execution_count": 102,
   "outputs": [],
   "source": [
    "from pathlib import Path\n",
    "\n",
    "# Guardar el modelo\n",
    "\n",
    "# Crear un directorio para el modelo\n",
    "MODEL1_PATH = Path(\"models\")\n",
    "MODEL1_PATH.mkdir(parents=True, exist_ok=True)\n",
    "\n",
    "# Asignarle un nombre a el archivo de nuestro modelo\n",
    "MODEL1_NAME = \"01_pytorch_workflow_model_1.pth\"\n",
    "MODEL1_SAVE_PATH = MODEL1_PATH / MODEL1_NAME\n",
    "\n",
    "# Guardar nuestro modelo\n",
    "torch.save(obj=model_1.state_dict(), f=MODEL1_SAVE_PATH)"
   ],
   "metadata": {
    "collapsed": false,
    "ExecuteTime": {
     "end_time": "2023-07-22T20:32:25.211903600Z",
     "start_time": "2023-07-22T20:32:25.209122300Z"
    }
   }
  },
  {
   "cell_type": "code",
   "execution_count": 103,
   "outputs": [
    {
     "data": {
      "text/plain": "ModeloDeRegresionLineal(\n  (linear_layer): Linear(in_features=1, out_features=1, bias=True)\n)"
     },
     "execution_count": 103,
     "metadata": {},
     "output_type": "execute_result"
    }
   ],
   "source": [
    "# Cargar el modelo\n",
    "\n",
    "# Crear una nueva instancia de la clase de nuestro modelo\n",
    "model_1_loaded = ModeloDeRegresionLineal()\n",
    "\n",
    "# Cargar el state_dict() que habiamos guardado en el modelo nuevo\n",
    "model_1_loaded.load_state_dict(torch.load(f=MODEL1_SAVE_PATH))\n",
    "\n",
    "# Ponemos el modelo cargado en el dispositivo que hemos elegido\n",
    "model_1_loaded.to(device)"
   ],
   "metadata": {
    "collapsed": false,
    "ExecuteTime": {
     "end_time": "2023-07-22T20:32:25.218023900Z",
     "start_time": "2023-07-22T20:32:25.211903600Z"
    }
   }
  },
  {
   "cell_type": "code",
   "execution_count": 104,
   "outputs": [
    {
     "data": {
      "text/plain": "OrderedDict([('linear_layer.weight', tensor([[0.6968]], device='cuda:0')),\n             ('linear_layer.bias', tensor([0.3025], device='cuda:0'))])"
     },
     "execution_count": 104,
     "metadata": {},
     "output_type": "execute_result"
    }
   ],
   "source": [
    "model_1_loaded.state_dict()"
   ],
   "metadata": {
    "collapsed": false,
    "ExecuteTime": {
     "end_time": "2023-07-22T20:32:25.223445300Z",
     "start_time": "2023-07-22T20:32:25.219021300Z"
    }
   }
  },
  {
   "cell_type": "code",
   "execution_count": 105,
   "outputs": [
    {
     "data": {
      "text/plain": "tensor([[True],\n        [True],\n        [True],\n        [True],\n        [True],\n        [True],\n        [True],\n        [True],\n        [True],\n        [True]], device='cuda:0')"
     },
     "execution_count": 105,
     "metadata": {},
     "output_type": "execute_result"
    }
   ],
   "source": [
    "model_1_loaded.eval()\n",
    "with torch.inference_mode():\n",
    "  loaded_model_1_preds = model_1_loaded(x_test)\n",
    "\n",
    "y_preds == loaded_model_1_preds"
   ],
   "metadata": {
    "collapsed": false,
    "ExecuteTime": {
     "end_time": "2023-07-22T20:32:25.228338300Z",
     "start_time": "2023-07-22T20:32:25.224952600Z"
    }
   }
  },
  {
   "cell_type": "markdown",
   "source": [
    "## Ejercicios y extra curriculares\n",
    "\n",
    "https://www.learnpytorch.io/01_pytorch_workflow/#extra-curriculum"
   ],
   "metadata": {
    "collapsed": false
   }
  }
 ]
}
