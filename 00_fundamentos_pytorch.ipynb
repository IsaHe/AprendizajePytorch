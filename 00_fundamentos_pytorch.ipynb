{
 "nbformat": 4,
 "nbformat_minor": 0,
 "metadata": {
  "colab": {
   "provenance": [],
   "toc_visible": true
  },
  "kernelspec": {
   "name": "python3",
   "language": "python",
   "display_name": "Python 3 (ipykernel)"
  },
  "language_info": {
   "name": "python"
  },
  "accelerator": "GPU",
  "gpuClass": "standard"
 },
 "cells": [
  {
   "cell_type": "markdown",
   "source": [
    "# 00. Fundamentos de Pytorch\n",
    "\n",
    "Fuentes:https://www.learnpytorch.io/, https://pytorch.org/tutorials/"
   ],
   "metadata": {
    "id": "UenhkQx6Cc9t"
   }
  },
  {
   "cell_type": "markdown",
   "source": [],
   "metadata": {
    "id": "ZfE4HYfIney8"
   }
  },
  {
   "cell_type": "code",
   "source": [
    "import torch\n",
    "import pandas as pd\n",
    "import numpy as np\n",
    "import matplotlib.pyplot as plt\n",
    "\n",
    "print(torch.__version__)"
   ],
   "metadata": {
    "colab": {
     "base_uri": "https://localhost:8080/"
    },
    "id": "slL245V7CsX3",
    "outputId": "3ae228a0-cc86-4b85-a7f2-f78b366f3ea1",
    "ExecuteTime": {
     "end_time": "2023-07-22T00:04:19.374512Z",
     "start_time": "2023-07-22T00:04:16.205490500Z"
    }
   },
   "execution_count": 1,
   "outputs": [
    {
     "name": "stdout",
     "output_type": "stream",
     "text": [
      "2.0.1\n"
     ]
    },
    {
     "data": {
      "text/plain": "True"
     },
     "execution_count": 1,
     "metadata": {},
     "output_type": "execute_result"
    }
   ]
  },
  {
   "cell_type": "markdown",
   "source": [
    "## Introduccion a los Tensores\n",
    "### Los Tensores son una forma de representar datos numericos\n",
    "## Como crear un tensor:\n",
    "Los Tensor son creados usando 'torch.tensor()' => https://pytorch.org/docs/stable/tensors.html"
   ],
   "metadata": {
    "id": "TJkzWe54CwRX"
   }
  },
  {
   "cell_type": "code",
   "source": [
    "# scalar\n",
    "escalar = torch.tensor(7)\n",
    "escalar"
   ],
   "metadata": {
    "colab": {
     "base_uri": "https://localhost:8080/"
    },
    "id": "3WuQm4SNDA-O",
    "outputId": "9d666148-4b7a-43af-84bb-6cc9b68a6d73",
    "ExecuteTime": {
     "end_time": "2023-07-22T00:04:19.380564200Z",
     "start_time": "2023-07-22T00:04:19.375651700Z"
    }
   },
   "execution_count": 2,
   "outputs": [
    {
     "data": {
      "text/plain": "tensor(7)"
     },
     "execution_count": 2,
     "metadata": {},
     "output_type": "execute_result"
    }
   ]
  },
  {
   "cell_type": "code",
   "source": [
    "escalar.ndim  # nos da la dimension del tensor"
   ],
   "metadata": {
    "colab": {
     "base_uri": "https://localhost:8080/"
    },
    "id": "JYsKEEvADCE4",
    "outputId": "436ef6ae-5b45-43cc-8585-d2da3bfe96cb",
    "ExecuteTime": {
     "end_time": "2023-07-22T00:04:19.384085500Z",
     "start_time": "2023-07-22T00:04:19.379568700Z"
    }
   },
   "execution_count": 3,
   "outputs": [
    {
     "data": {
      "text/plain": "0"
     },
     "execution_count": 3,
     "metadata": {},
     "output_type": "execute_result"
    }
   ]
  },
  {
   "cell_type": "code",
   "source": [
    "escalar.item() # saca los valores de la clase tensor como un int"
   ],
   "metadata": {
    "colab": {
     "base_uri": "https://localhost:8080/"
    },
    "id": "kn02aVi1DHIY",
    "outputId": "067952cb-62c4-4b8f-e82e-8ea8ba88eca7",
    "ExecuteTime": {
     "end_time": "2023-07-22T00:04:19.387066300Z",
     "start_time": "2023-07-22T00:04:19.384591Z"
    }
   },
   "execution_count": 4,
   "outputs": [
    {
     "data": {
      "text/plain": "7"
     },
     "execution_count": 4,
     "metadata": {},
     "output_type": "execute_result"
    }
   ]
  },
  {
   "cell_type": "code",
   "source": [
    "# Vector\n",
    "vector = torch.tensor([7, 7])\n",
    "vector"
   ],
   "metadata": {
    "colab": {
     "base_uri": "https://localhost:8080/"
    },
    "id": "c_Z8MMBQDTeN",
    "outputId": "a9c8a1e5-da7b-4de2-d180-09c4df049551",
    "ExecuteTime": {
     "end_time": "2023-07-22T00:04:19.396082300Z",
     "start_time": "2023-07-22T00:04:19.389061700Z"
    }
   },
   "execution_count": 5,
   "outputs": [
    {
     "data": {
      "text/plain": "tensor([7, 7])"
     },
     "execution_count": 5,
     "metadata": {},
     "output_type": "execute_result"
    }
   ]
  },
  {
   "cell_type": "code",
   "source": [
    "vector.ndim #La dimension puede relacionar con el numero de []"
   ],
   "metadata": {
    "colab": {
     "base_uri": "https://localhost:8080/"
    },
    "id": "taSopVaKDXHw",
    "outputId": "4b5e37ae-12ab-412b-8c59-64f62b4602ab",
    "ExecuteTime": {
     "end_time": "2023-07-22T00:04:19.492387700Z",
     "start_time": "2023-07-22T00:04:19.396082300Z"
    }
   },
   "execution_count": 6,
   "outputs": [
    {
     "data": {
      "text/plain": "1"
     },
     "execution_count": 6,
     "metadata": {},
     "output_type": "execute_result"
    }
   ]
  },
  {
   "cell_type": "code",
   "source": [
    "vector.shape  # Aqui podemos ver que, en efecto tenemos elementos en un 2x1"
   ],
   "metadata": {
    "colab": {
     "base_uri": "https://localhost:8080/"
    },
    "id": "dusVIKKLDcsF",
    "outputId": "7a70c1d8-a6eb-4e3a-8d24-bcffa04cd22a",
    "ExecuteTime": {
     "end_time": "2023-07-22T00:04:19.492387700Z",
     "start_time": "2023-07-22T00:04:19.400418200Z"
    }
   },
   "execution_count": 7,
   "outputs": [
    {
     "data": {
      "text/plain": "torch.Size([2])"
     },
     "execution_count": 7,
     "metadata": {},
     "output_type": "execute_result"
    }
   ]
  },
  {
   "cell_type": "code",
   "source": [
    "# MATRIX\n",
    "MATRIX =  torch.tensor([[7, 8],\n",
    "                        [9, 10]])\n",
    "MATRIX"
   ],
   "metadata": {
    "colab": {
     "base_uri": "https://localhost:8080/"
    },
    "id": "1eWl4Kn-Df0e",
    "outputId": "24c80de4-95d2-4e67-c91c-4e42ad1ea27b",
    "ExecuteTime": {
     "end_time": "2023-07-22T00:04:19.493188Z",
     "start_time": "2023-07-22T00:04:19.403312600Z"
    }
   },
   "execution_count": 8,
   "outputs": [
    {
     "data": {
      "text/plain": "tensor([[ 7,  8],\n        [ 9, 10]])"
     },
     "execution_count": 8,
     "metadata": {},
     "output_type": "execute_result"
    }
   ]
  },
  {
   "cell_type": "code",
   "source": [
    "MATRIX.ndim"
   ],
   "metadata": {
    "colab": {
     "base_uri": "https://localhost:8080/"
    },
    "id": "ApuBRp9UDjOh",
    "outputId": "c7793193-812b-43db-f963-1a015afc932b",
    "ExecuteTime": {
     "end_time": "2023-07-22T00:04:19.493188Z",
     "start_time": "2023-07-22T00:04:19.408338200Z"
    }
   },
   "execution_count": 9,
   "outputs": [
    {
     "data": {
      "text/plain": "2"
     },
     "execution_count": 9,
     "metadata": {},
     "output_type": "execute_result"
    }
   ]
  },
  {
   "cell_type": "code",
   "source": [
    "MATRIX.shape  #Ahora nos da unas dimensiones de 2x2"
   ],
   "metadata": {
    "colab": {
     "base_uri": "https://localhost:8080/"
    },
    "id": "fgcBr8oaDmXa",
    "outputId": "bfe820eb-5909-432f-c0c1-0f05c34e4bd1",
    "ExecuteTime": {
     "end_time": "2023-07-22T00:04:19.494239800Z",
     "start_time": "2023-07-22T00:04:19.412183700Z"
    }
   },
   "execution_count": 10,
   "outputs": [
    {
     "data": {
      "text/plain": "torch.Size([2, 2])"
     },
     "execution_count": 10,
     "metadata": {},
     "output_type": "execute_result"
    }
   ]
  },
  {
   "cell_type": "code",
   "source": [
    "# TENSOR\n",
    "TENSOR = torch.tensor([[[1, 2, 3],  #Las variables que sean matrices o tensores se nombran en mayusculas por convencion.\n",
    "                        [4, 5, 6],\n",
    "                        [1, 3, 5]]])\n",
    "TENSOR"
   ],
   "metadata": {
    "colab": {
     "base_uri": "https://localhost:8080/"
    },
    "id": "iQUxrJvzDpQf",
    "outputId": "aa7fff07-e295-413c-933e-5bf94efe2203",
    "ExecuteTime": {
     "end_time": "2023-07-22T00:04:19.494239800Z",
     "start_time": "2023-07-22T00:04:19.416017Z"
    }
   },
   "execution_count": 11,
   "outputs": [
    {
     "data": {
      "text/plain": "tensor([[[1, 2, 3],\n         [4, 5, 6],\n         [1, 3, 5]]])"
     },
     "execution_count": 11,
     "metadata": {},
     "output_type": "execute_result"
    }
   ]
  },
  {
   "cell_type": "code",
   "source": [
    "TENSOR.ndim"
   ],
   "metadata": {
    "colab": {
     "base_uri": "https://localhost:8080/"
    },
    "id": "5gxLlUX-Drhv",
    "outputId": "e776eb98-4c70-44a2-fad6-f1cb2c6b55cf",
    "ExecuteTime": {
     "end_time": "2023-07-22T00:04:19.494239800Z",
     "start_time": "2023-07-22T00:04:19.420255700Z"
    }
   },
   "execution_count": 12,
   "outputs": [
    {
     "data": {
      "text/plain": "3"
     },
     "execution_count": 12,
     "metadata": {},
     "output_type": "execute_result"
    }
   ]
  },
  {
   "cell_type": "code",
   "source": [
    "TENSOR.shape  # Nos dice que tenemos una matriz de 3x3"
   ],
   "metadata": {
    "colab": {
     "base_uri": "https://localhost:8080/"
    },
    "id": "h1UbG7chDt5d",
    "outputId": "2caac69a-43e5-44b7-c373-030e8148a0ec",
    "ExecuteTime": {
     "end_time": "2023-07-22T00:04:19.495488Z",
     "start_time": "2023-07-22T00:04:19.423245900Z"
    }
   },
   "execution_count": 13,
   "outputs": [
    {
     "data": {
      "text/plain": "torch.Size([1, 3, 3])"
     },
     "execution_count": 13,
     "metadata": {},
     "output_type": "execute_result"
    }
   ]
  },
  {
   "cell_type": "code",
   "source": [
    "TENSOR2 = torch.tensor([[[1, 2, 3],\n",
    "                         [4, 5, 6],\n",
    "                         [1, 3, 5]],\n",
    "                        [[3, 5, 6],\n",
    "                         [6, 7, 3],\n",
    "                         [4, 5, 6]]])\n",
    "TENSOR2"
   ],
   "metadata": {
    "colab": {
     "base_uri": "https://localhost:8080/"
    },
    "id": "N4p8_LI7Dw7J",
    "outputId": "db1e31cd-8ad6-41c2-bb4d-9e3ea7b88bc1",
    "ExecuteTime": {
     "end_time": "2023-07-22T00:04:19.495488Z",
     "start_time": "2023-07-22T00:04:19.429646300Z"
    }
   },
   "execution_count": 14,
   "outputs": [
    {
     "data": {
      "text/plain": "tensor([[[1, 2, 3],\n         [4, 5, 6],\n         [1, 3, 5]],\n\n        [[3, 5, 6],\n         [6, 7, 3],\n         [4, 5, 6]]])"
     },
     "execution_count": 14,
     "metadata": {},
     "output_type": "execute_result"
    }
   ]
  },
  {
   "cell_type": "code",
   "source": [
    "TENSOR2.ndim"
   ],
   "metadata": {
    "colab": {
     "base_uri": "https://localhost:8080/"
    },
    "id": "QijGNS-JDzU4",
    "outputId": "58a98cd9-db82-4c3e-942d-d42f9ea9f1ea",
    "ExecuteTime": {
     "end_time": "2023-07-22T00:04:19.495488Z",
     "start_time": "2023-07-22T00:04:19.434273600Z"
    }
   },
   "execution_count": 15,
   "outputs": [
    {
     "data": {
      "text/plain": "3"
     },
     "execution_count": 15,
     "metadata": {},
     "output_type": "execute_result"
    }
   ]
  },
  {
   "cell_type": "code",
   "source": [
    "TENSOR2.shape # Ahora se han creado 2 matrices es 3x3"
   ],
   "metadata": {
    "colab": {
     "base_uri": "https://localhost:8080/"
    },
    "id": "cknPE9rYD1py",
    "outputId": "8db752c1-c30b-4e9d-8533-1b0126fbfe83",
    "ExecuteTime": {
     "end_time": "2023-07-22T00:04:19.495488Z",
     "start_time": "2023-07-22T00:04:19.438161300Z"
    }
   },
   "execution_count": 16,
   "outputs": [
    {
     "data": {
      "text/plain": "torch.Size([2, 3, 3])"
     },
     "execution_count": 16,
     "metadata": {},
     "output_type": "execute_result"
    }
   ]
  },
  {
   "cell_type": "markdown",
   "source": [
    "Se puede ver que un escalar es la unidad basica, un vector es un conjunto de escalares, una matriz es un conjunto de vectores y un tensor es un cojunto de cualquiera de los anteriores."
   ],
   "metadata": {
    "id": "sp8Fn7puD3vA"
   }
  },
  {
   "cell_type": "markdown",
   "source": [
    "### Tensores aleatorios\n",
    "Los tensores aleatorios son importantes pues la manera en la que las redes neuronales aprenden es empezando con tensores llenos de numeros aleatorios y luego modificandolos para representar mejor los datos.\n",
    "\n",
    "`Se empieza con numeros aleatorios -> se observan los datos -> se actualizan los numeros aleatorios -> se observan los datos -> se actualizan los numeros aleatorios`\n",
    "\n",
    "torch.rand() => https://pytorch.org/docs/stable/generated/torch.rand.html"
   ],
   "metadata": {
    "id": "Tg4qs9GQD7B_"
   }
  },
  {
   "cell_type": "code",
   "source": [
    "# Crear un tensor aleatorio de size (2, 3, 3) (2 matrices de 3x3)\n",
    "tensor_aleatorio = torch.rand(size = (2, 3, 3))\n",
    "tensor_aleatorio"
   ],
   "metadata": {
    "colab": {
     "base_uri": "https://localhost:8080/"
    },
    "id": "XahqsQUOEAI6",
    "outputId": "c6972b37-ca90-4f60-bdac-949ad7afcb25",
    "ExecuteTime": {
     "end_time": "2023-07-22T00:04:19.496486400Z",
     "start_time": "2023-07-22T00:04:19.440884300Z"
    }
   },
   "execution_count": 17,
   "outputs": [
    {
     "data": {
      "text/plain": "tensor([[[0.3463, 0.1722, 0.7772],\n         [0.5431, 0.1700, 0.3081],\n         [0.0506, 0.8341, 0.7632]],\n\n        [[0.4765, 0.9489, 0.3245],\n         [0.8442, 0.4049, 0.2198],\n         [0.3997, 0.4040, 0.2414]]])"
     },
     "execution_count": 17,
     "metadata": {},
     "output_type": "execute_result"
    }
   ]
  },
  {
   "cell_type": "code",
   "source": [
    "# Crear un tensor con una forma similar a la de una imagen\n",
    "random_image_size_tensor = torch.rand(size = (224, 224, 3)) # Alto, Ancho y Numero de canales de color (en este caso R, G, B)\n",
    "# Tambien se podria hacer Numero de canales de color, Alto y Ancho"
   ],
   "metadata": {
    "id": "OquO0HD_EETO",
    "ExecuteTime": {
     "end_time": "2023-07-22T00:04:19.496486400Z",
     "start_time": "2023-07-22T00:04:19.445957100Z"
    }
   },
   "execution_count": 18,
   "outputs": []
  },
  {
   "cell_type": "code",
   "source": [
    "random_image_size_tensor.shape"
   ],
   "metadata": {
    "colab": {
     "base_uri": "https://localhost:8080/"
    },
    "id": "M5XS-IZfEHsV",
    "outputId": "d5cc7ab9-92d0-4406-9723-f03d38349126",
    "ExecuteTime": {
     "end_time": "2023-07-22T00:04:19.496991600Z",
     "start_time": "2023-07-22T00:04:19.450814400Z"
    }
   },
   "execution_count": 19,
   "outputs": [
    {
     "data": {
      "text/plain": "torch.Size([224, 224, 3])"
     },
     "execution_count": 19,
     "metadata": {},
     "output_type": "execute_result"
    }
   ]
  },
  {
   "cell_type": "code",
   "source": [
    "random_image_size_tensor.ndim"
   ],
   "metadata": {
    "colab": {
     "base_uri": "https://localhost:8080/"
    },
    "id": "HdET5bC1EJjf",
    "outputId": "610b7691-49ae-4b9a-cc4b-230d3e240e65",
    "ExecuteTime": {
     "end_time": "2023-07-22T00:04:19.496991600Z",
     "start_time": "2023-07-22T00:04:19.456880100Z"
    }
   },
   "execution_count": 20,
   "outputs": [
    {
     "data": {
      "text/plain": "3"
     },
     "execution_count": 20,
     "metadata": {},
     "output_type": "execute_result"
    }
   ]
  },
  {
   "cell_type": "markdown",
   "source": [
    "### Ceros y Unos"
   ],
   "metadata": {
    "id": "CUFyC4IEEL2-"
   }
  },
  {
   "cell_type": "code",
   "source": [
    "# Crar un tensor unicamente de ceros\n",
    "ceros = torch.zeros(size=(2, 3, 3))"
   ],
   "metadata": {
    "id": "HR_tGue1tK4R",
    "ExecuteTime": {
     "end_time": "2023-07-22T00:04:19.496991600Z",
     "start_time": "2023-07-22T00:04:19.474435100Z"
    }
   },
   "execution_count": 21,
   "outputs": []
  },
  {
   "cell_type": "code",
   "source": [
    "ceros*tensor_aleatorio"
   ],
   "metadata": {
    "colab": {
     "base_uri": "https://localhost:8080/"
    },
    "id": "SJFZfPBItpUv",
    "outputId": "9331c1cc-5771-44a6-ef6e-bf8f690eb9a4",
    "ExecuteTime": {
     "end_time": "2023-07-22T00:04:19.510727400Z",
     "start_time": "2023-07-22T00:04:19.475079800Z"
    }
   },
   "execution_count": 22,
   "outputs": [
    {
     "data": {
      "text/plain": "tensor([[[0., 0., 0.],\n         [0., 0., 0.],\n         [0., 0., 0.]],\n\n        [[0., 0., 0.],\n         [0., 0., 0.],\n         [0., 0., 0.]]])"
     },
     "execution_count": 22,
     "metadata": {},
     "output_type": "execute_result"
    }
   ]
  },
  {
   "cell_type": "code",
   "source": [
    "unos = torch.ones(2, 3, 3)"
   ],
   "metadata": {
    "id": "LzqtVO-qt9bI",
    "ExecuteTime": {
     "end_time": "2023-07-22T00:04:19.510727400Z",
     "start_time": "2023-07-22T00:04:19.475079800Z"
    }
   },
   "execution_count": 23,
   "outputs": []
  },
  {
   "cell_type": "code",
   "source": [
    "unos*tensor_aleatorio"
   ],
   "metadata": {
    "colab": {
     "base_uri": "https://localhost:8080/"
    },
    "id": "ZRc_5xswuFTm",
    "outputId": "fb3a4c92-f139-4721-aa67-bfba83605dd6",
    "ExecuteTime": {
     "end_time": "2023-07-22T00:04:19.510727400Z",
     "start_time": "2023-07-22T00:04:19.475079800Z"
    }
   },
   "execution_count": 24,
   "outputs": [
    {
     "data": {
      "text/plain": "tensor([[[0.3463, 0.1722, 0.7772],\n         [0.5431, 0.1700, 0.3081],\n         [0.0506, 0.8341, 0.7632]],\n\n        [[0.4765, 0.9489, 0.3245],\n         [0.8442, 0.4049, 0.2198],\n         [0.3997, 0.4040, 0.2414]]])"
     },
     "execution_count": 24,
     "metadata": {},
     "output_type": "execute_result"
    }
   ]
  },
  {
   "cell_type": "code",
   "source": [
    "unos.dtype  # A no ser que se defina uno esoecifico este sera el tipo de los tensores"
   ],
   "metadata": {
    "colab": {
     "base_uri": "https://localhost:8080/"
    },
    "id": "KZ8c1dewuIj4",
    "outputId": "3082d079-173c-4d4a-e2db-4cf80567c7fc",
    "ExecuteTime": {
     "end_time": "2023-07-22T00:04:19.510727400Z",
     "start_time": "2023-07-22T00:04:19.475079800Z"
    }
   },
   "execution_count": 25,
   "outputs": [
    {
     "data": {
      "text/plain": "torch.float32"
     },
     "execution_count": 25,
     "metadata": {},
     "output_type": "execute_result"
    }
   ]
  },
  {
   "cell_type": "markdown",
   "source": [
    "### Crear un rango de tensores y \"tensors-like\"\n",
    "Fuente: https://pytorch.org/docs/stable/generated/torch.arange.html"
   ],
   "metadata": {
    "id": "f0MYGgvnuUtO"
   }
  },
  {
   "cell_type": "code",
   "source": [
    "# Usando torch.arange()   Tambien se usa torch.range(), sin enbargo este metodo sera retirado proximamente\n",
    "uno_a_diez = torch.arange(start=1, end=11, step=1)\n",
    "uno_a_diez"
   ],
   "metadata": {
    "colab": {
     "base_uri": "https://localhost:8080/"
    },
    "id": "utPDDY2Wu5Eb",
    "outputId": "25002917-10a3-4d38-c98f-cca7dfb42d10",
    "ExecuteTime": {
     "end_time": "2023-07-22T00:04:19.510727400Z",
     "start_time": "2023-07-22T00:04:19.477585700Z"
    }
   },
   "execution_count": 26,
   "outputs": [
    {
     "data": {
      "text/plain": "tensor([ 1,  2,  3,  4,  5,  6,  7,  8,  9, 10])"
     },
     "execution_count": 26,
     "metadata": {},
     "output_type": "execute_result"
    }
   ]
  },
  {
   "cell_type": "code",
   "source": [
    "# Crear \"tensors-like\"\n",
    "diez_ceros = torch.zeros_like(input=uno_a_diez)   #Te devuelve un tensor de ceros del mismo \"shape\" que el que se introduce\n",
    "diez_ceros"
   ],
   "metadata": {
    "colab": {
     "base_uri": "https://localhost:8080/"
    },
    "id": "xOLSfv7Ru7ng",
    "outputId": "4861e8ca-c8a9-4caa-aad3-45ef3f745e62",
    "ExecuteTime": {
     "end_time": "2023-07-22T00:04:19.510727400Z",
     "start_time": "2023-07-22T00:04:19.481606700Z"
    }
   },
   "execution_count": 27,
   "outputs": [
    {
     "data": {
      "text/plain": "tensor([0, 0, 0, 0, 0, 0, 0, 0, 0, 0])"
     },
     "execution_count": 27,
     "metadata": {},
     "output_type": "execute_result"
    }
   ]
  },
  {
   "cell_type": "markdown",
   "source": [
    "### Tipos de tensores"
   ],
   "metadata": {
    "id": "9hQBwAhPu7_9"
   }
  },
  {
   "cell_type": "code",
   "source": [
    "# Tensor Float 32\n",
    "float_32 = torch.tensor([3.0, 6.0, 9.0],\n",
    "                        dtype=None,  # Por defecto el tipo sera float 32, incluso si ponemos None. Para mas info mirar la documentacion de torch.tensor.\n",
    "                        #Los mas coumunes seran Float32 y Float16.  (El numero representa la presicion del numero, es decir el numero de bits usados para representar el numero)\n",
    "                        device=None,  # Por defecto  sera \"cpu\", pero se puede modificar a \"cuda\" para computar mas rapidamente. podemos saber el device de un tensor con tensor.device\n",
    "                        requires_grad=False)  # Por si queremos ver el gradiantes con las operaciones de este tensor\n",
    "float_32"
   ],
   "metadata": {
    "colab": {
     "base_uri": "https://localhost:8080/"
    },
    "id": "hDHU4wVCu8tR",
    "outputId": "1e805a4b-f5b8-49df-83d1-265eabefa555",
    "ExecuteTime": {
     "end_time": "2023-07-22T00:04:19.512234500Z",
     "start_time": "2023-07-22T00:04:19.486625200Z"
    }
   },
   "execution_count": 28,
   "outputs": [
    {
     "data": {
      "text/plain": "tensor([3., 6., 9.])"
     },
     "execution_count": 28,
     "metadata": {},
     "output_type": "execute_result"
    }
   ]
  },
  {
   "cell_type": "code",
   "source": [
    "float_32.dtype"
   ],
   "metadata": {
    "colab": {
     "base_uri": "https://localhost:8080/"
    },
    "id": "1VzO09lfx9Qv",
    "outputId": "e5ef3e6f-3b18-4f6c-e725-4b323a6e8e5e",
    "ExecuteTime": {
     "end_time": "2023-07-22T00:04:19.512234500Z",
     "start_time": "2023-07-22T00:04:19.489395Z"
    }
   },
   "execution_count": 29,
   "outputs": [
    {
     "data": {
      "text/plain": "torch.float32"
     },
     "execution_count": 29,
     "metadata": {},
     "output_type": "execute_result"
    }
   ]
  },
  {
   "cell_type": "code",
   "source": [
    "float_16 = float_32.type(torch.float16)   # o torch.half\n",
    "float_16"
   ],
   "metadata": {
    "colab": {
     "base_uri": "https://localhost:8080/"
    },
    "id": "ZeQ2peJgyGam",
    "outputId": "b35fcf3b-346c-467b-e4fa-bc13200941cb",
    "ExecuteTime": {
     "end_time": "2023-07-22T00:04:19.513233600Z",
     "start_time": "2023-07-22T00:04:19.494239800Z"
    }
   },
   "execution_count": 30,
   "outputs": [
    {
     "data": {
      "text/plain": "tensor([3., 6., 9.], dtype=torch.float16)"
     },
     "execution_count": 30,
     "metadata": {},
     "output_type": "execute_result"
    }
   ]
  },
  {
   "cell_type": "code",
   "source": [
    "float_32 * float_16 #Es posible multiplicar diferentes tipos de tensores"
   ],
   "metadata": {
    "colab": {
     "base_uri": "https://localhost:8080/"
    },
    "id": "nAk639Fj2BW3",
    "outputId": "ae91ca1a-717d-42bc-c6ae-dd5afb632bac",
    "ExecuteTime": {
     "end_time": "2023-07-22T00:04:19.513233600Z",
     "start_time": "2023-07-22T00:04:19.498996300Z"
    }
   },
   "execution_count": 31,
   "outputs": [
    {
     "data": {
      "text/plain": "tensor([ 9., 36., 81.])"
     },
     "execution_count": 31,
     "metadata": {},
     "output_type": "execute_result"
    }
   ]
  },
  {
   "cell_type": "markdown",
   "source": [
    "### Manipulacion de tensores\n",
    "Las operaciones que se pueden realizar con tensores son las siguientes:\n",
    "\n",
    "\n",
    "*   Suma\n",
    "*   Resta\n",
    "*   Multiplicacion (de sus elementos)\n",
    "*   Division\n",
    "*   Multiplicacion de matrices\n",
    "\n",
    "Se usaran estas operaciones para encontrar patrones dentro de in dataset.\n"
   ],
   "metadata": {
    "id": "9KEfTCJIpOqN"
   }
  },
  {
   "cell_type": "code",
   "source": [
    "# La suma de un tensor\n",
    "tensor = torch.tensor([1, 2, 3])\n",
    "tensor + 10"
   ],
   "metadata": {
    "colab": {
     "base_uri": "https://localhost:8080/"
    },
    "id": "UjxwB5nppWNB",
    "outputId": "c5fb3798-1fd4-43f1-e8a9-bc3586005fea",
    "ExecuteTime": {
     "end_time": "2023-07-22T00:04:19.800517700Z",
     "start_time": "2023-07-22T00:04:19.503175300Z"
    }
   },
   "execution_count": 32,
   "outputs": [
    {
     "data": {
      "text/plain": "tensor([11, 12, 13])"
     },
     "execution_count": 32,
     "metadata": {},
     "output_type": "execute_result"
    }
   ]
  },
  {
   "cell_type": "code",
   "source": [
    "# La multiplicacion de un tensor\n",
    "tensor * 10"
   ],
   "metadata": {
    "colab": {
     "base_uri": "https://localhost:8080/"
    },
    "id": "NzkLFpyMpWDU",
    "outputId": "567bc4ef-a493-4071-c172-8870387ede94",
    "ExecuteTime": {
     "end_time": "2023-07-22T00:04:19.830684500Z",
     "start_time": "2023-07-22T00:04:19.507438400Z"
    }
   },
   "execution_count": 33,
   "outputs": [
    {
     "data": {
      "text/plain": "tensor([10, 20, 30])"
     },
     "execution_count": 33,
     "metadata": {},
     "output_type": "execute_result"
    }
   ]
  },
  {
   "cell_type": "code",
   "source": [
    "# Restar tensores\n",
    "tensor - 10"
   ],
   "metadata": {
    "colab": {
     "base_uri": "https://localhost:8080/"
    },
    "id": "6-pRyDyypV0_",
    "outputId": "5f363170-6eeb-4a30-a371-38a2a6d50598",
    "ExecuteTime": {
     "end_time": "2023-07-22T00:04:19.862326500Z",
     "start_time": "2023-07-22T00:04:19.512234500Z"
    }
   },
   "execution_count": 34,
   "outputs": [
    {
     "data": {
      "text/plain": "tensor([-9, -8, -7])"
     },
     "execution_count": 34,
     "metadata": {},
     "output_type": "execute_result"
    }
   ]
  },
  {
   "cell_type": "code",
   "source": [
    "#Tambien se pueden utilizar las funciones de pytorch para estas operacions\n",
    "torch.mul(tensor, 10)\n",
    "torch.add(tensor, 10)\n",
    "torch.subtract(tensor, 10)\n",
    "# ..."
   ],
   "metadata": {
    "colab": {
     "base_uri": "https://localhost:8080/"
    },
    "id": "BcL-TKcZpVeo",
    "outputId": "cbfecf14-2162-4b81-a837-d77b2cee22d9",
    "ExecuteTime": {
     "end_time": "2023-07-22T00:04:19.878795400Z",
     "start_time": "2023-07-22T00:04:19.518411Z"
    }
   },
   "execution_count": 35,
   "outputs": [
    {
     "data": {
      "text/plain": "tensor([-9, -8, -7])"
     },
     "execution_count": 35,
     "metadata": {},
     "output_type": "execute_result"
    }
   ]
  },
  {
   "cell_type": "markdown",
   "source": [
    "### Multiplicacion de matrices\n",
    "\n",
    "Es la operacion con tensores mas comun dentro del Deep Learning.\n",
    "Ademas de torch.matmul se puede usar el operador @ para realizar la multiplicacion de matrices.\n",
    "1. Las **dimensiones internas** deberan coincidir:\n",
    "*  `(3, 2) @ (3, 2)` no funcionara\n",
    "*  `(2, 3) @ (3, 2)` si funcionara\n",
    "2. La matriz resultante tendra las dimensiones de los elementos exteriores:\n",
    "*  `(2, 3) @ (3, 2)` -> `(2, 2)`\n",
    "*  `(3, 2) @ (2, 3)` -> `(3, 3)`\n",
    "*  `(3, 2) @ (2, 4)` -> `(3, 4)`"
   ],
   "metadata": {
    "id": "JsIJ39djw7VL"
   }
  },
  {
   "cell_type": "code",
   "source": [
    "torch.matmul(tensor, tensor)"
   ],
   "metadata": {
    "colab": {
     "base_uri": "https://localhost:8080/"
    },
    "id": "10_bSxn8w7GO",
    "outputId": "36752c9f-d59b-4800-dd8c-034a89b38420",
    "ExecuteTime": {
     "end_time": "2023-07-22T00:04:19.879794500Z",
     "start_time": "2023-07-22T00:04:19.522501Z"
    }
   },
   "execution_count": 36,
   "outputs": [
    {
     "data": {
      "text/plain": "tensor(14)"
     },
     "execution_count": 36,
     "metadata": {},
     "output_type": "execute_result"
    }
   ]
  },
  {
   "cell_type": "code",
   "source": [
    "torch.matmul(torch.rand(3, 2), torch.rand(2, 4))"
   ],
   "metadata": {
    "colab": {
     "base_uri": "https://localhost:8080/"
    },
    "id": "AITk1fIRw7C0",
    "outputId": "894075d6-8151-483d-af8c-7b0724c41791",
    "ExecuteTime": {
     "end_time": "2023-07-22T00:04:19.879794500Z",
     "start_time": "2023-07-22T00:04:19.526557700Z"
    }
   },
   "execution_count": 37,
   "outputs": [
    {
     "data": {
      "text/plain": "tensor([[0.3245, 0.3888, 0.6195, 0.3787],\n        [0.2898, 0.2997, 0.4906, 0.3221],\n        [0.7772, 0.7660, 1.2658, 0.8510]])"
     },
     "execution_count": 37,
     "metadata": {},
     "output_type": "execute_result"
    }
   ]
  },
  {
   "cell_type": "code",
   "source": [
    "A_tensor = torch.tensor([[1, 2],\n",
    "                         [3, 4],\n",
    "                         [5,6]])\n",
    "\n",
    "B_tensor = torch.tensor([[7, 10],\n",
    "                         [8, 11],\n",
    "                         [9, 12]])\n"
   ],
   "metadata": {
    "id": "cCXeeAw3w6_7",
    "ExecuteTime": {
     "end_time": "2023-07-22T00:04:19.880791500Z",
     "start_time": "2023-07-22T00:04:19.531230800Z"
    }
   },
   "execution_count": 38,
   "outputs": []
  },
  {
   "cell_type": "markdown",
   "source": [
    "Si queremos multiplicar A con B, tendremos que manipular el \"shape\" de una de las matrices usando **transpose**.\n",
    "Un **transpose** modifica los ejes o las dimensiones de un tensor dado:"
   ],
   "metadata": {
    "id": "AzR7JkcL30-n"
   }
  },
  {
   "cell_type": "code",
   "source": [
    "B_tensor"
   ],
   "metadata": {
    "colab": {
     "base_uri": "https://localhost:8080/"
    },
    "id": "g3DvD-r14egj",
    "outputId": "2c80937c-edad-4c44-c56f-efc47fec8f48",
    "ExecuteTime": {
     "end_time": "2023-07-22T00:04:19.880791500Z",
     "start_time": "2023-07-22T00:04:19.534775800Z"
    }
   },
   "execution_count": 39,
   "outputs": [
    {
     "data": {
      "text/plain": "tensor([[ 7, 10],\n        [ 8, 11],\n        [ 9, 12]])"
     },
     "execution_count": 39,
     "metadata": {},
     "output_type": "execute_result"
    }
   ]
  },
  {
   "cell_type": "code",
   "source": [
    "B_tensor.T  # Hace la transpuesta de la matriz\n",
    "# De esta manera la multiplicacion funcionara sin problemas"
   ],
   "metadata": {
    "colab": {
     "base_uri": "https://localhost:8080/"
    },
    "id": "nAvUtmt14o77",
    "outputId": "7e161ec1-3a37-40e9-8c33-0399f001ff08",
    "ExecuteTime": {
     "end_time": "2023-07-22T00:04:19.880791500Z",
     "start_time": "2023-07-22T00:04:19.538791800Z"
    }
   },
   "execution_count": 40,
   "outputs": [
    {
     "data": {
      "text/plain": "tensor([[ 7,  8,  9],\n        [10, 11, 12]])"
     },
     "execution_count": 40,
     "metadata": {},
     "output_type": "execute_result"
    }
   ]
  },
  {
   "cell_type": "code",
   "source": [
    "torch.mm(A_tensor, B_tensor.T)    # mm funciona igual que matmul"
   ],
   "metadata": {
    "colab": {
     "base_uri": "https://localhost:8080/"
    },
    "id": "zQ9MhSgrw69B",
    "outputId": "73247cda-badf-4613-a41c-4bab53773980",
    "ExecuteTime": {
     "end_time": "2023-07-22T00:04:19.880791500Z",
     "start_time": "2023-07-22T00:04:19.546815700Z"
    }
   },
   "execution_count": 41,
   "outputs": [
    {
     "data": {
      "text/plain": "tensor([[ 27,  30,  33],\n        [ 61,  68,  75],\n        [ 95, 106, 117]])"
     },
     "execution_count": 41,
     "metadata": {},
     "output_type": "execute_result"
    }
   ]
  },
  {
   "cell_type": "markdown",
   "source": [
    "### Como encontrar min, max, mean, sum, ... (tensor aggregation)"
   ],
   "metadata": {
    "id": "UMja4o0hw66I"
   }
  },
  {
   "cell_type": "code",
   "source": [
    "x = torch.arange(0, 100, 10)"
   ],
   "metadata": {
    "id": "HNlCjC7G7-Va",
    "ExecuteTime": {
     "end_time": "2023-07-22T00:04:19.880791500Z",
     "start_time": "2023-07-22T00:04:19.550663900Z"
    }
   },
   "execution_count": 42,
   "outputs": []
  },
  {
   "cell_type": "code",
   "source": [
    "# Emncontrar el minimo\n",
    "torch.min(x), x.min()"
   ],
   "metadata": {
    "colab": {
     "base_uri": "https://localhost:8080/"
    },
    "id": "dXLAhzNk8Dzt",
    "outputId": "e29b2a14-0e9a-430d-874c-b4654561125f",
    "ExecuteTime": {
     "end_time": "2023-07-22T00:04:19.880791500Z",
     "start_time": "2023-07-22T00:04:19.554214700Z"
    }
   },
   "execution_count": 43,
   "outputs": [
    {
     "data": {
      "text/plain": "(tensor(0), tensor(0))"
     },
     "execution_count": 43,
     "metadata": {},
     "output_type": "execute_result"
    }
   ]
  },
  {
   "cell_type": "code",
   "source": [
    "# Encontrar el maximo\n",
    "torch.max(x), x.max()"
   ],
   "metadata": {
    "colab": {
     "base_uri": "https://localhost:8080/"
    },
    "id": "7IsRhK4V8Dna",
    "outputId": "287fda8a-33c0-4fb6-942e-425991107e6e",
    "ExecuteTime": {
     "end_time": "2023-07-22T00:04:19.882298900Z",
     "start_time": "2023-07-22T00:04:19.558249600Z"
    }
   },
   "execution_count": 44,
   "outputs": [
    {
     "data": {
      "text/plain": "(tensor(90), tensor(90))"
     },
     "execution_count": 44,
     "metadata": {},
     "output_type": "execute_result"
    }
   ]
  },
  {
   "cell_type": "code",
   "source": [
    "# Encontrar la media\n",
    "torch.mean(x.type(torch.float32)), x.type(torch.float32).mean() # Requiere datos de tipo Float o Complex"
   ],
   "metadata": {
    "colab": {
     "base_uri": "https://localhost:8080/"
    },
    "id": "AiiZCapR8DdQ",
    "outputId": "28852e11-bcb4-4c63-db0e-3597e1fcc662",
    "ExecuteTime": {
     "end_time": "2023-07-22T00:04:19.882298900Z",
     "start_time": "2023-07-22T00:04:19.562187500Z"
    }
   },
   "execution_count": 45,
   "outputs": [
    {
     "data": {
      "text/plain": "(tensor(45.), tensor(45.))"
     },
     "execution_count": 45,
     "metadata": {},
     "output_type": "execute_result"
    }
   ]
  },
  {
   "cell_type": "code",
   "source": [
    "torch.sum(x), x.sum()"
   ],
   "metadata": {
    "colab": {
     "base_uri": "https://localhost:8080/"
    },
    "id": "8pMctNi08DSS",
    "outputId": "75742a2f-c3b2-4fcd-844e-3b212b68573c",
    "ExecuteTime": {
     "end_time": "2023-07-22T00:04:19.882298900Z",
     "start_time": "2023-07-22T00:04:19.566778800Z"
    }
   },
   "execution_count": 46,
   "outputs": [
    {
     "data": {
      "text/plain": "(tensor(450), tensor(450))"
     },
     "execution_count": 46,
     "metadata": {},
     "output_type": "execute_result"
    }
   ]
  },
  {
   "cell_type": "code",
   "source": [
    "index = 0\n",
    "for element in x:\n",
    "  if element == x.max():\n",
    "    print(element)\n",
    "    print(index)\n",
    "  index +=1\n",
    "\n",
    "  # Esta seria la forma manual de encontrar el maximo dentro de un tensor."
   ],
   "metadata": {
    "colab": {
     "base_uri": "https://localhost:8080/"
    },
    "id": "qAh4bWPd8DI7",
    "outputId": "9c71ae02-6c0d-48bb-a074-0afba7c62932",
    "ExecuteTime": {
     "end_time": "2023-07-22T00:04:19.924132200Z",
     "start_time": "2023-07-22T00:04:19.570934600Z"
    }
   },
   "execution_count": 47,
   "outputs": [
    {
     "name": "stdout",
     "output_type": "stream",
     "text": [
      "tensor(90)\n",
      "9\n"
     ]
    }
   ]
  },
  {
   "cell_type": "code",
   "source": [
    "x.argmax(), x.argmin()  # Esto seria utilizando los metodos de pytorch. (mucho mas eficiente)"
   ],
   "metadata": {
    "colab": {
     "base_uri": "https://localhost:8080/"
    },
    "id": "kgmecCap8C9j",
    "outputId": "d208b6ea-c4c1-41fc-aa51-fb1e5acde1dc",
    "ExecuteTime": {
     "end_time": "2023-07-22T00:04:19.924132200Z",
     "start_time": "2023-07-22T00:04:19.574444400Z"
    }
   },
   "execution_count": 48,
   "outputs": [
    {
     "data": {
      "text/plain": "(tensor(9), tensor(0))"
     },
     "execution_count": 48,
     "metadata": {},
     "output_type": "execute_result"
    }
   ]
  },
  {
   "cell_type": "markdown",
   "source": [
    "### \"Reshaping\", \"stracking\", \"squeezing\" and \"unsqueezing\" tensores\n",
    "*  \"Reshaping\" -> Remodela un tesor de una figura definida.\n",
    "*  \"View\" -> Devuelve una vista de un tensor de una cierta figura se comparte la misma memoria.\n",
    "*  \"Stacking\" -> Convina multiples tensores uno encima de otro (vstack) o uno al lado del otro (hstack). (https://pytorch.org/docs/stable/generated/torch.stack.html), (https://pytorch.org/docs/stable/generated/torch.hstack.html), (https://pytorch.org/docs/stable/generated/torch.vstack.html)\n",
    "*  \"Squeeze\" -> Elimina todas las \"single dimensions\" de un tensor.\n",
    "*  \"Unsqueeze\" -> Añade una \"single dimension\" a un tensor.\n",
    "*  \"Permute\" -> Devuelve una vista del input con las dimensiones permitadas de cierta manera."
   ],
   "metadata": {
    "id": "hPI5zW-4AZ-O"
   }
  },
  {
   "cell_type": "code",
   "source": [
    "x = torch.arange(1., 11.)\n",
    "x, x.shape"
   ],
   "metadata": {
    "colab": {
     "base_uri": "https://localhost:8080/"
    },
    "id": "1uEwjbc0AZ2N",
    "outputId": "af5f774e-34da-4712-b7ec-d09e6861af30",
    "ExecuteTime": {
     "end_time": "2023-07-22T00:04:19.925101300Z",
     "start_time": "2023-07-22T00:04:19.579423100Z"
    }
   },
   "execution_count": 49,
   "outputs": [
    {
     "data": {
      "text/plain": "(tensor([ 1.,  2.,  3.,  4.,  5.,  6.,  7.,  8.,  9., 10.]), torch.Size([10]))"
     },
     "execution_count": 49,
     "metadata": {},
     "output_type": "execute_result"
    }
   ]
  },
  {
   "cell_type": "code",
   "source": [
    "x_reshaped = x.reshape(1, 10)  # La multiplicacion de los argumentos del reshape ha de ser igual el size del tensor\n",
    "x_reshaped, x_reshaped.shape"
   ],
   "metadata": {
    "colab": {
     "base_uri": "https://localhost:8080/"
    },
    "id": "GlRA17P-AZuF",
    "outputId": "33962e83-423c-474f-e076-73af627012d3",
    "ExecuteTime": {
     "end_time": "2023-07-22T00:04:19.925101300Z",
     "start_time": "2023-07-22T00:04:19.584624900Z"
    }
   },
   "execution_count": 50,
   "outputs": [
    {
     "data": {
      "text/plain": "(tensor([[ 1.,  2.,  3.,  4.,  5.,  6.,  7.,  8.,  9., 10.]]),\n torch.Size([1, 10]))"
     },
     "execution_count": 50,
     "metadata": {},
     "output_type": "execute_result"
    }
   ]
  },
  {
   "cell_type": "code",
   "source": [
    "z = x.view(5, 2)    # Como comparten la misma memoria, modificando uno se modificara el otro\n",
    "z, z.shape"
   ],
   "metadata": {
    "id": "lKL76ox4AZk3",
    "colab": {
     "base_uri": "https://localhost:8080/"
    },
    "outputId": "7737e47c-83dd-4120-ba14-8027b0dd4a03",
    "ExecuteTime": {
     "end_time": "2023-07-22T00:04:19.925101300Z",
     "start_time": "2023-07-22T00:04:19.589370900Z"
    }
   },
   "execution_count": 51,
   "outputs": [
    {
     "data": {
      "text/plain": "(tensor([[ 1.,  2.],\n         [ 3.,  4.],\n         [ 5.,  6.],\n         [ 7.,  8.],\n         [ 9., 10.]]),\n torch.Size([5, 2]))"
     },
     "execution_count": 51,
     "metadata": {},
     "output_type": "execute_result"
    }
   ]
  },
  {
   "cell_type": "code",
   "source": [
    "# \"Stack\" tensores\n",
    "x_stacked = torch.stack([x, x, x, x], dim=0)\n",
    "x_stacked"
   ],
   "metadata": {
    "id": "7Ielk2yWAZdU",
    "colab": {
     "base_uri": "https://localhost:8080/"
    },
    "outputId": "7e027db0-89a0-47a4-855f-8dbbe214c8eb",
    "ExecuteTime": {
     "end_time": "2023-07-22T00:04:19.925101300Z",
     "start_time": "2023-07-22T00:04:19.594309Z"
    }
   },
   "execution_count": 52,
   "outputs": [
    {
     "data": {
      "text/plain": "tensor([[ 1.,  2.,  3.,  4.,  5.,  6.,  7.,  8.,  9., 10.],\n        [ 1.,  2.,  3.,  4.,  5.,  6.,  7.,  8.,  9., 10.],\n        [ 1.,  2.,  3.,  4.,  5.,  6.,  7.,  8.,  9., 10.],\n        [ 1.,  2.,  3.,  4.,  5.,  6.,  7.,  8.,  9., 10.]])"
     },
     "execution_count": 52,
     "metadata": {},
     "output_type": "execute_result"
    }
   ]
  },
  {
   "cell_type": "code",
   "source": [
    "x_squeezed = x_reshaped.squeeze()\n",
    "x_squeezed, x_reshaped  #Se elimina la parte del tensor que tienen dimension 1"
   ],
   "metadata": {
    "id": "7msX3NpD8C0n",
    "colab": {
     "base_uri": "https://localhost:8080/"
    },
    "outputId": "9c4328b5-0898-4d67-ef0c-104487d92d8f",
    "ExecuteTime": {
     "end_time": "2023-07-22T00:04:19.926123Z",
     "start_time": "2023-07-22T00:04:19.598805100Z"
    }
   },
   "execution_count": 53,
   "outputs": [
    {
     "data": {
      "text/plain": "(tensor([ 1.,  2.,  3.,  4.,  5.,  6.,  7.,  8.,  9., 10.]),\n tensor([[ 1.,  2.,  3.,  4.,  5.,  6.,  7.,  8.,  9., 10.]]))"
     },
     "execution_count": 53,
     "metadata": {},
     "output_type": "execute_result"
    }
   ]
  },
  {
   "cell_type": "code",
   "source": [
    "# Se las dimensiones son size(dim 0, dim 1, dim 2, ...)\n",
    "x_unsqueezed = x_squeezed.unsqueeze(dim = 1)  #Se añade una \"single dimension\" donde le digamos\n",
    "x_unsqueezed, x_unsqueezed.shape"
   ],
   "metadata": {
    "colab": {
     "base_uri": "https://localhost:8080/"
    },
    "id": "O0F-QWRrX8Cl",
    "outputId": "e5786039-2e42-4ac6-9134-aa95c175750a",
    "ExecuteTime": {
     "end_time": "2023-07-22T00:04:19.926123Z",
     "start_time": "2023-07-22T00:04:19.602187200Z"
    }
   },
   "execution_count": 54,
   "outputs": [
    {
     "data": {
      "text/plain": "(tensor([[ 1.],\n         [ 2.],\n         [ 3.],\n         [ 4.],\n         [ 5.],\n         [ 6.],\n         [ 7.],\n         [ 8.],\n         [ 9.],\n         [10.]]),\n torch.Size([10, 1]))"
     },
     "execution_count": 54,
     "metadata": {},
     "output_type": "execute_result"
    }
   ]
  },
  {
   "cell_type": "code",
   "source": [
    "# torch.permute => reordena las dimensiones de un tensor de una manera determinada  (https://pytorch.org/docs/stable/generated/torch.permute.html)\n",
    "x_original = torch.rand(size = (224, 224, 3)) # (alto, ancho y canales de color)\n",
    "x_permuted = x_original.permute(2, 0, 1)  # Se permuta el orden del tensor de la siguiente manera (canales de color, alto y ancho)\n",
    "x_original.shape, x_permuted.shape  # Como se comporta la funcion permute ambos compartiran el mismo espacio de memoria. Es decir si se modifican los valores en una, la modificacion hara efecto en ambas"
   ],
   "metadata": {
    "colab": {
     "base_uri": "https://localhost:8080/"
    },
    "id": "18e17rnmX75u",
    "outputId": "20085adb-5e00-4f24-d8d8-2be4274160a2",
    "ExecuteTime": {
     "end_time": "2023-07-22T00:04:19.926123Z",
     "start_time": "2023-07-22T00:04:19.607543700Z"
    }
   },
   "execution_count": 55,
   "outputs": [
    {
     "data": {
      "text/plain": "(torch.Size([224, 224, 3]), torch.Size([3, 224, 224]))"
     },
     "execution_count": 55,
     "metadata": {},
     "output_type": "execute_result"
    }
   ]
  },
  {
   "cell_type": "markdown",
   "source": [
    "### Indexing (seleccionar datos de tensores)"
   ],
   "metadata": {
    "id": "Q_JeDRIAX7yA"
   }
  },
  {
   "cell_type": "code",
   "source": [
    "x = torch.arange(1, 10).reshape(1, 3, 3)\n",
    "x"
   ],
   "metadata": {
    "colab": {
     "base_uri": "https://localhost:8080/"
    },
    "id": "fBz2s1XqX7pl",
    "outputId": "1259f981-b273-4628-e620-42bf3db78c4d",
    "ExecuteTime": {
     "end_time": "2023-07-22T00:04:19.926123Z",
     "start_time": "2023-07-22T00:04:19.612231Z"
    }
   },
   "execution_count": 56,
   "outputs": [
    {
     "data": {
      "text/plain": "tensor([[[1, 2, 3],\n         [4, 5, 6],\n         [7, 8, 9]]])"
     },
     "execution_count": 56,
     "metadata": {},
     "output_type": "execute_result"
    }
   ]
  },
  {
   "cell_type": "code",
   "source": [
    "x[0]"
   ],
   "metadata": {
    "colab": {
     "base_uri": "https://localhost:8080/"
    },
    "id": "pYeRQqisxDYa",
    "outputId": "143d11e0-8279-4c10-e97f-29521f685260",
    "ExecuteTime": {
     "end_time": "2023-07-22T00:04:19.927094600Z",
     "start_time": "2023-07-22T00:04:19.616968500Z"
    }
   },
   "execution_count": 57,
   "outputs": [
    {
     "data": {
      "text/plain": "tensor([[1, 2, 3],\n        [4, 5, 6],\n        [7, 8, 9]])"
     },
     "execution_count": 57,
     "metadata": {},
     "output_type": "execute_result"
    }
   ]
  },
  {
   "cell_type": "code",
   "source": [
    "x[0, 0] # [dim 0, dim 1, dim 2, ...]"
   ],
   "metadata": {
    "colab": {
     "base_uri": "https://localhost:8080/"
    },
    "id": "7kUGnD5nX7gF",
    "outputId": "bf1f407a-3dd6-44af-de19-3c09c8b2fa79",
    "ExecuteTime": {
     "end_time": "2023-07-22T00:04:19.927094600Z",
     "start_time": "2023-07-22T00:04:19.620967700Z"
    }
   },
   "execution_count": 58,
   "outputs": [
    {
     "data": {
      "text/plain": "tensor([1, 2, 3])"
     },
     "execution_count": 58,
     "metadata": {},
     "output_type": "execute_result"
    }
   ]
  },
  {
   "cell_type": "code",
   "source": [
    "x[0, 0, 0]"
   ],
   "metadata": {
    "colab": {
     "base_uri": "https://localhost:8080/"
    },
    "id": "zt0ndnMQX7XX",
    "outputId": "bc8517fc-6267-433e-a87e-1ca430d34ed3",
    "ExecuteTime": {
     "end_time": "2023-07-22T00:04:19.927094600Z",
     "start_time": "2023-07-22T00:04:19.624768500Z"
    }
   },
   "execution_count": 59,
   "outputs": [
    {
     "data": {
      "text/plain": "tensor(1)"
     },
     "execution_count": 59,
     "metadata": {},
     "output_type": "execute_result"
    }
   ]
  },
  {
   "cell_type": "code",
   "source": [
    "# Se puede utilizar : para acceder a esa dimension por completo\n",
    "x[:, :, 1]"
   ],
   "metadata": {
    "colab": {
     "base_uri": "https://localhost:8080/"
    },
    "id": "HnSTnWkTwL_Y",
    "outputId": "e9130ebe-b4d5-4737-ca98-e1ed3d417cc8",
    "ExecuteTime": {
     "end_time": "2023-07-22T00:04:19.928090600Z",
     "start_time": "2023-07-22T00:04:19.629125200Z"
    }
   },
   "execution_count": 60,
   "outputs": [
    {
     "data": {
      "text/plain": "tensor([[2, 5, 8]])"
     },
     "execution_count": 60,
     "metadata": {},
     "output_type": "execute_result"
    }
   ]
  },
  {
   "cell_type": "code",
   "source": [
    "x[:, 1, 1]"
   ],
   "metadata": {
    "colab": {
     "base_uri": "https://localhost:8080/"
    },
    "id": "8u4OGFP1wL06",
    "outputId": "f3057ade-7500-48b7-c12b-ce39f33642a0",
    "ExecuteTime": {
     "end_time": "2023-07-22T00:04:19.928090600Z",
     "start_time": "2023-07-22T00:04:19.633438500Z"
    }
   },
   "execution_count": 61,
   "outputs": [
    {
     "data": {
      "text/plain": "tensor([5])"
     },
     "execution_count": 61,
     "metadata": {},
     "output_type": "execute_result"
    }
   ]
  },
  {
   "cell_type": "code",
   "source": [
    "x[0, 0, :]"
   ],
   "metadata": {
    "colab": {
     "base_uri": "https://localhost:8080/"
    },
    "id": "Y738BnGzwLt0",
    "outputId": "876d5f02-9536-4509-eb2a-0eb9b3ef42a3",
    "ExecuteTime": {
     "end_time": "2023-07-22T00:04:19.928090600Z",
     "start_time": "2023-07-22T00:04:19.637110500Z"
    }
   },
   "execution_count": 62,
   "outputs": [
    {
     "data": {
      "text/plain": "tensor([1, 2, 3])"
     },
     "execution_count": 62,
     "metadata": {},
     "output_type": "execute_result"
    }
   ]
  },
  {
   "cell_type": "code",
   "source": [
    "x[0, 2, 2]"
   ],
   "metadata": {
    "colab": {
     "base_uri": "https://localhost:8080/"
    },
    "id": "Dy-ikCxAzDf7",
    "outputId": "f02783a0-73c0-48ba-86e9-b84045c4014c",
    "ExecuteTime": {
     "end_time": "2023-07-22T00:04:19.928090600Z",
     "start_time": "2023-07-22T00:04:19.640734Z"
    }
   },
   "execution_count": 63,
   "outputs": [
    {
     "data": {
      "text/plain": "tensor(9)"
     },
     "execution_count": 63,
     "metadata": {},
     "output_type": "execute_result"
    }
   ]
  },
  {
   "cell_type": "code",
   "source": [
    "x[:, :, 2]"
   ],
   "metadata": {
    "colab": {
     "base_uri": "https://localhost:8080/"
    },
    "id": "ILMbkJXOzRic",
    "outputId": "c475cc68-16e2-4527-f4c8-670f0a8e5cca",
    "ExecuteTime": {
     "end_time": "2023-07-22T00:04:19.928090600Z",
     "start_time": "2023-07-22T00:04:19.644211800Z"
    }
   },
   "execution_count": 64,
   "outputs": [
    {
     "data": {
      "text/plain": "tensor([[3, 6, 9]])"
     },
     "execution_count": 64,
     "metadata": {},
     "output_type": "execute_result"
    }
   ]
  },
  {
   "cell_type": "markdown",
   "source": [
    "### Tensores de Pytorch y Numpy\n",
    "\n",
    "Numpy es una libreria popular para la computacion numerica en python.\n",
    "\n",
    "Es por esto que Pytorch tienen una funcionalidad para interacutar con ella.\n",
    "\n",
    "*  Se pueden cambiar los datos en Numpy para que se vuelvan un tensor de PyTorch -> `torch.from_numpy(ndarray)`\n",
    "*  Tambien se pueden cambiar los tensores de PyTorch a datos de Numpy -> `torch.Tensor.numpy()`\n",
    "\n",
    "(Ninguno de estos metodos comparten memoria)"
   ],
   "metadata": {
    "id": "oZGGnEPMzRFr"
   }
  },
  {
   "cell_type": "code",
   "source": [
    "array = np.arange(1., 8.)\n",
    "tensor = torch.from_numpy(array)\n",
    "array, tensor"
   ],
   "metadata": {
    "colab": {
     "base_uri": "https://localhost:8080/"
    },
    "id": "zK86O3Mn2Cle",
    "outputId": "6f7d9aba-e156-49c4-9674-d2da28d24f38",
    "ExecuteTime": {
     "end_time": "2023-07-22T00:04:19.929115500Z",
     "start_time": "2023-07-22T00:04:19.649336800Z"
    }
   },
   "execution_count": 65,
   "outputs": [
    {
     "data": {
      "text/plain": "(array([1., 2., 3., 4., 5., 6., 7.]),\n tensor([1., 2., 3., 4., 5., 6., 7.], dtype=torch.float64))"
     },
     "execution_count": 65,
     "metadata": {},
     "output_type": "execute_result"
    }
   ]
  },
  {
   "cell_type": "code",
   "source": [
    "array.dtype, tensor.dtype   # El tipo de datos por defecto de np es float64"
   ],
   "metadata": {
    "colab": {
     "base_uri": "https://localhost:8080/"
    },
    "id": "SjLvho3iz8jM",
    "outputId": "584ac6bc-f55a-4f94-bbc9-dc48eda9a8c5",
    "ExecuteTime": {
     "end_time": "2023-07-22T00:04:19.929115500Z",
     "start_time": "2023-07-22T00:04:19.654538600Z"
    }
   },
   "execution_count": 66,
   "outputs": [
    {
     "data": {
      "text/plain": "(dtype('float64'), torch.float64)"
     },
     "execution_count": 66,
     "metadata": {},
     "output_type": "execute_result"
    }
   ]
  },
  {
   "cell_type": "code",
   "source": [
    "tensor = torch.ones(7)\n",
    "numpy_tensor = tensor.numpy()\n",
    "tensor, numpy_tensor"
   ],
   "metadata": {
    "colab": {
     "base_uri": "https://localhost:8080/"
    },
    "id": "ToCZfUHiz8f8",
    "outputId": "8c0e3ccd-28ba-4ac2-cd56-25459528cddc",
    "ExecuteTime": {
     "end_time": "2023-07-22T00:04:19.929115500Z",
     "start_time": "2023-07-22T00:04:19.658406500Z"
    }
   },
   "execution_count": 67,
   "outputs": [
    {
     "data": {
      "text/plain": "(tensor([1., 1., 1., 1., 1., 1., 1.]),\n array([1., 1., 1., 1., 1., 1., 1.], dtype=float32))"
     },
     "execution_count": 67,
     "metadata": {},
     "output_type": "execute_result"
    }
   ]
  },
  {
   "cell_type": "markdown",
   "source": [
    "### Reproducibilidad\n",
    "Para reducir la aleatoriedad en redes neuronales se utiliza el concepto de **random seed**.\n",
    "\n",
    "https://pytorch.org/docs/stable/notes/randomness.html"
   ],
   "metadata": {
    "id": "FXovCDLEz8dN"
   }
  },
  {
   "cell_type": "code",
   "source": [
    "A_tensor = torch.rand(3, 4)\n",
    "B_tensor = torch.rand(3, 4)\n",
    "\n",
    "print(A_tensor == B_tensor)   # Nos dira si alguno de los valores son iguales"
   ],
   "metadata": {
    "colab": {
     "base_uri": "https://localhost:8080/"
    },
    "id": "LDcCy3I3z8al",
    "outputId": "b13a1406-b686-4c0b-9754-ce321275d82c",
    "ExecuteTime": {
     "end_time": "2023-07-22T00:04:19.929115500Z",
     "start_time": "2023-07-22T00:04:19.663075900Z"
    }
   },
   "execution_count": 68,
   "outputs": [
    {
     "name": "stdout",
     "output_type": "stream",
     "text": [
      "tensor([[False, False, False, False],\n",
      "        [False, False, False, False],\n",
      "        [False, False, False, False]])\n"
     ]
    }
   ]
  },
  {
   "cell_type": "code",
   "source": [
    "RANDOM_SEED = 12\n",
    "\n",
    "torch.manual_seed(RANDOM_SEED)\n",
    "C_random =  torch.rand(3, 4)\n",
    "\n",
    "torch.manual_seed(RANDOM_SEED)  # Esto se deberia de hacer cada vez que se cree un tensor aleatorio\n",
    "D_random = torch.rand(3, 4)\n",
    "\n",
    "print(C_random)\n",
    "print(D_random)\n",
    "print(C_random == D_random)"
   ],
   "metadata": {
    "colab": {
     "base_uri": "https://localhost:8080/"
    },
    "id": "GnMWo7-lz8YC",
    "outputId": "73653851-bfca-462e-eedf-4f6b82f2c63c",
    "ExecuteTime": {
     "end_time": "2023-07-22T00:04:19.930086300Z",
     "start_time": "2023-07-22T00:04:19.666781400Z"
    }
   },
   "execution_count": 69,
   "outputs": [
    {
     "name": "stdout",
     "output_type": "stream",
     "text": [
      "tensor([[0.4657, 0.2328, 0.4527, 0.5871],\n",
      "        [0.4086, 0.1272, 0.6373, 0.2421],\n",
      "        [0.7312, 0.7224, 0.1992, 0.6948]])\n",
      "tensor([[0.4657, 0.2328, 0.4527, 0.5871],\n",
      "        [0.4086, 0.1272, 0.6373, 0.2421],\n",
      "        [0.7312, 0.7224, 0.1992, 0.6948]])\n",
      "tensor([[True, True, True, True],\n",
      "        [True, True, True, True],\n",
      "        [True, True, True, True]])\n"
     ]
    }
   ]
  },
  {
   "cell_type": "markdown",
   "source": [
    "### Ejecutar tensores y objetos de PyTorch en una GPU para relaciar las operaciones mas rapidamente"
   ],
   "metadata": {
    "id": "FOUAEh86z8VT"
   }
  },
  {
   "cell_type": "code",
   "source": [
    "torch.cuda.is_available()   # Para comprobar si PyTorch acceso a la GPU"
   ],
   "metadata": {
    "colab": {
     "base_uri": "https://localhost:8080/"
    },
    "id": "jfhl_-vOz8S3",
    "outputId": "d8d291a9-7428-42d3-cd36-c55b933e9121",
    "ExecuteTime": {
     "end_time": "2023-07-22T00:04:19.930086300Z",
     "start_time": "2023-07-22T00:04:19.675342300Z"
    }
   },
   "execution_count": 70,
   "outputs": [
    {
     "data": {
      "text/plain": "True"
     },
     "execution_count": 70,
     "metadata": {},
     "output_type": "execute_result"
    }
   ]
  },
  {
   "cell_type": "code",
   "source": [
    "!nvidia-smi"
   ],
   "metadata": {
    "colab": {
     "base_uri": "https://localhost:8080/"
    },
    "id": "lt4zOIi-z8QM",
    "outputId": "3d0628d7-7ffd-4615-ae10-46195bfaf284",
    "ExecuteTime": {
     "end_time": "2023-07-22T00:04:19.931082800Z",
     "start_time": "2023-07-22T00:04:19.679082300Z"
    }
   },
   "execution_count": 71,
   "outputs": [
    {
     "name": "stdout",
     "output_type": "stream",
     "text": [
      "Sat Jul 22 02:04:19 2023       \n",
      "+---------------------------------------------------------------------------------------+\n",
      "| NVIDIA-SMI 536.40                 Driver Version: 536.40       CUDA Version: 12.2     |\n",
      "|-----------------------------------------+----------------------+----------------------+\n",
      "| GPU  Name                     TCC/WDDM  | Bus-Id        Disp.A | Volatile Uncorr. ECC |\n",
      "| Fan  Temp   Perf          Pwr:Usage/Cap |         Memory-Usage | GPU-Util  Compute M. |\n",
      "|                                         |                      |               MIG M. |\n",
      "|=========================================+======================+======================|\n",
      "|   0  NVIDIA GeForce RTX 2080 Ti   WDDM  | 00000000:01:00.0  On |                  N/A |\n",
      "| 28%   34C    P8              26W / 260W |   1569MiB / 11264MiB |      6%      Default |\n",
      "|                                         |                      |                  N/A |\n",
      "+-----------------------------------------+----------------------+----------------------+\n",
      "                                                                                         \n",
      "+---------------------------------------------------------------------------------------+\n",
      "| Processes:                                                                            |\n",
      "|  GPU   GI   CI        PID   Type   Process name                            GPU Memory |\n",
      "|        ID   ID                                                             Usage      |\n",
      "|=======================================================================================|\n",
      "|    0   N/A  N/A      1360    C+G   ...ne\\Binaries\\Win64\\EpicWebHelper.exe    N/A      |\n",
      "|    0   N/A  N/A      2936    C+G   ...oogle\\Chrome\\Application\\chrome.exe    N/A      |\n",
      "|    0   N/A  N/A      5560    C+G   ...nt.CBS_cw5n1h2txyewy\\SearchHost.exe    N/A      |\n",
      "|    0   N/A  N/A      8196    C+G   ...CBS_cw5n1h2txyewy\\TextInputHost.exe    N/A      |\n",
      "|    0   N/A  N/A      9164    C+G   ...sair iCUE5 Software\\QmlRenderer.exe    N/A      |\n",
      "|    0   N/A  N/A     11972    C+G   ....0_x64__kzh8wxbdkxb8p\\DCv2\\DCv2.exe    N/A      |\n",
      "|    0   N/A  N/A     12768    C+G   ...air\\Corsair iCUE5 Software\\iCUE.exe    N/A      |\n",
      "|    0   N/A  N/A     12976    C+G   ...__8wekyb3d8bbwe\\WindowsTerminal.exe    N/A      |\n",
      "|    0   N/A  N/A     13556    C+G   ...GeForce Experience\\NVIDIA Share.exe    N/A      |\n",
      "|    0   N/A  N/A     14532    C+G   ...1.0_x64__8wekyb3d8bbwe\\Video.UI.exe    N/A      |\n",
      "|    0   N/A  N/A     15984    C+G   C:\\Windows\\explorer.exe                   N/A      |\n",
      "|    0   N/A  N/A     19644    C+G   ...03.0_x64__8wekyb3d8bbwe\\Cortana.exe    N/A      |\n",
      "|    0   N/A  N/A     20028    C+G   ...\\cef\\cef.win7x64\\steamwebhelper.exe    N/A      |\n",
      "|    0   N/A  N/A     20340    C+G   ...inaries\\Win64\\EpicGamesLauncher.exe    N/A      |\n",
      "|    0   N/A  N/A     22648    C+G   ...on\\114.0.1823.82\\msedgewebview2.exe    N/A      |\n",
      "|    0   N/A  N/A     23040    C+G   ... Synapse 3 Host\\Razer Synapse 3.exe    N/A      |\n",
      "|    0   N/A  N/A     23364    C+G   ...on\\wallpaper_engine\\wallpaper32.exe    N/A      |\n",
      "|    0   N/A  N/A     23492    C+G   ...5n1h2txyewy\\ShellExperienceHost.exe    N/A      |\n",
      "|    0   N/A  N/A     26284    C+G   ...2txyewy\\StartMenuExperienceHost.exe    N/A      |\n",
      "|    0   N/A  N/A     26796    C+G   ...\\GOG Galaxy\\GalaxyClient Helper.exe    N/A      |\n",
      "|    0   N/A  N/A     27452    C+G   ...47.0_x64__zpdnekdrzrea0\\Spotify.exe    N/A      |\n",
      "|    0   N/A  N/A     28608    C+G   ...on\\114.0.1823.82\\msedgewebview2.exe    N/A      |\n",
      "|    0   N/A  N/A     28820    C+G   ...ekyb3d8bbwe\\PhoneExperienceHost.exe    N/A      |\n",
      "|    0   N/A  N/A     32524    C+G   ...siveControlPanel\\SystemSettings.exe    N/A      |\n",
      "|    0   N/A  N/A     32780    C+G   ...\\PyCharm 2023.1.3\\bin\\pycharm64.exe    N/A      |\n",
      "+---------------------------------------------------------------------------------------+\n"
     ]
    }
   ]
  },
  {
   "cell_type": "code",
   "source": [
    "device = \"cuda\" if torch.cuda.is_available() else \"cpu\"    # Para inicializar el codigo en la GPU\n",
    "device"
   ],
   "metadata": {
    "colab": {
     "base_uri": "https://localhost:8080/",
     "height": 36
    },
    "id": "OeGnnFgUz8LB",
    "outputId": "7e4a5b13-4084-4e52-a593-8859b474c278",
    "ExecuteTime": {
     "end_time": "2023-07-22T00:04:19.931082800Z",
     "start_time": "2023-07-22T00:04:19.760391800Z"
    }
   },
   "execution_count": 72,
   "outputs": [
    {
     "data": {
      "text/plain": "'cuda'"
     },
     "execution_count": 72,
     "metadata": {},
     "output_type": "execute_result"
    }
   ]
  },
  {
   "cell_type": "code",
   "source": [
    "torch.cuda.device_count()   # Para contar el numero de GPUs disponibles (Si se tiene mas de una)"
   ],
   "metadata": {
    "colab": {
     "base_uri": "https://localhost:8080/"
    },
    "id": "WUjtLTrdz8BV",
    "outputId": "a245f51a-04c5-4a7f-e711-e916ed5521df",
    "ExecuteTime": {
     "end_time": "2023-07-22T00:04:19.931082800Z",
     "start_time": "2023-07-22T00:04:19.765309600Z"
    }
   },
   "execution_count": 73,
   "outputs": [
    {
     "data": {
      "text/plain": "1"
     },
     "execution_count": 73,
     "metadata": {},
     "output_type": "execute_result"
    }
   ]
  },
  {
   "cell_type": "markdown",
   "source": [
    "### Como poner tensores (y modelos) en la gpu.\n",
    "https://pytorch.org/docs/stable/cuda.html"
   ],
   "metadata": {
    "id": "psz9fEZ8z74Z"
   }
  },
  {
   "cell_type": "code",
   "source": [
    "tensor = torch.tensor([1, 2, 3])\n",
    "tensor, tensor.device"
   ],
   "metadata": {
    "colab": {
     "base_uri": "https://localhost:8080/"
    },
    "id": "bfKDyOH-Ov6F",
    "outputId": "7d82900a-5b4a-4fec-c8e1-7f560c676499",
    "ExecuteTime": {
     "end_time": "2023-07-22T00:04:19.931082800Z",
     "start_time": "2023-07-22T00:04:19.768669900Z"
    }
   },
   "execution_count": 74,
   "outputs": [
    {
     "data": {
      "text/plain": "(tensor([1, 2, 3]), device(type='cpu'))"
     },
     "execution_count": 74,
     "metadata": {},
     "output_type": "execute_result"
    }
   ]
  },
  {
   "cell_type": "code",
   "source": [
    "# Para mover los tensores a la gpu\n",
    "gpu_tensor = tensor.to(device)\n",
    "gpu_tensor"
   ],
   "metadata": {
    "colab": {
     "base_uri": "https://localhost:8080/"
    },
    "id": "aYN9W6nEOvxX",
    "outputId": "58797e54-de3a-4678-f0eb-72069930697e",
    "ExecuteTime": {
     "end_time": "2023-07-22T00:04:20.393119700Z",
     "start_time": "2023-07-22T00:04:19.773497100Z"
    }
   },
   "execution_count": 75,
   "outputs": [
    {
     "data": {
      "text/plain": "tensor([1, 2, 3], device='cuda:0')"
     },
     "execution_count": 75,
     "metadata": {},
     "output_type": "execute_result"
    }
   ]
  },
  {
   "cell_type": "markdown",
   "source": [
    "### Como devolverlos a la cpu (para hacer calculos con Numpy)"
   ],
   "metadata": {
    "id": "BlhbEogtOvpy"
   }
  },
  {
   "cell_type": "code",
   "source": [
    "cpu_tensor = gpu_tensor.cpu()\n",
    "cpu_tensor, cpu_tensor.device"
   ],
   "metadata": {
    "colab": {
     "base_uri": "https://localhost:8080/"
    },
    "id": "_Li89h_2OviH",
    "outputId": "f521ddea-e82e-41ae-dc51-20a94d907aa9",
    "ExecuteTime": {
     "end_time": "2023-07-22T00:04:20.394127Z",
     "start_time": "2023-07-22T00:04:19.945811200Z"
    }
   },
   "execution_count": 76,
   "outputs": [
    {
     "data": {
      "text/plain": "(tensor([1, 2, 3]), device(type='cpu'))"
     },
     "execution_count": 76,
     "metadata": {},
     "output_type": "execute_result"
    }
   ]
  }
 ]
}
